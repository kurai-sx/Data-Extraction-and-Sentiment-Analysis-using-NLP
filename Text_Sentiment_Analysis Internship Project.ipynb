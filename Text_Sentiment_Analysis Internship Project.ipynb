{
  "nbformat": 4,
  "nbformat_minor": 0,
  "metadata": {
    "colab": {
      "provenance": []
    },
    "kernelspec": {
      "name": "python3",
      "display_name": "Python 3"
    },
    "language_info": {
      "name": "python"
    }
  },
  "cells": [
    {
      "cell_type": "markdown",
      "source": [
        "**Importing needful libraries**"
      ],
      "metadata": {
        "id": "wpuRpkxJdJ5g"
      }
    },
    {
      "cell_type": "code",
      "source": [
        "import pandas as pd #working with datasets\n",
        "import requests as rq #allows to send HTTP requests using python\n",
        "from bs4 import BeautifulSoup as bs #Used for parsing HTML or XML pages / extracting data from html pages --> Web Scraping\n",
        "import nltk\n",
        "import re\n",
        "from google.colab import files"
      ],
      "metadata": {
        "id": "dMkKkSgKdOL8"
      },
      "execution_count": null,
      "outputs": []
    },
    {
      "cell_type": "code",
      "source": [
        "from google.colab import drive\n",
        "drive.mount('/content/drive')"
      ],
      "metadata": {
        "colab": {
          "base_uri": "https://localhost:8080/"
        },
        "id": "XwSEDdWEctF0",
        "outputId": "60e04379-b810-4438-b93c-ffd453268695"
      },
      "execution_count": null,
      "outputs": [
        {
          "output_type": "stream",
          "name": "stdout",
          "text": [
            "Mounted at /content/drive\n"
          ]
        }
      ]
    },
    {
      "cell_type": "code",
      "source": [
        "url = \"https://insights.blackcoffer.com/rising-it-cities-and-their-impact-on-the-economy-environment-infrastructure-and-city-life-in-future/\""
      ],
      "metadata": {
        "id": "9gsgYhaCdRD1"
      },
      "execution_count": null,
      "outputs": []
    },
    {
      "cell_type": "code",
      "source": [
        "HEADER = ({'User-Agent':'Mozilla/5.0 (Windows NT 10.0; Win64; x64) AppleWebKit/537.36 (KHTML, like Gecko) Chrome/121.0.0.0 Safari/537.36','Accept-Language':'en-US,en;q=0.5'})"
      ],
      "metadata": {
        "id": "UC8QXVm0rBxu"
      },
      "execution_count": null,
      "outputs": []
    },
    {
      "cell_type": "code",
      "source": [
        "page = rq.get(url,headers=HEADER)"
      ],
      "metadata": {
        "id": "YnfvteSYdZ0I"
      },
      "execution_count": null,
      "outputs": []
    },
    {
      "cell_type": "code",
      "source": [
        "page.content #not readable"
      ],
      "metadata": {
        "id": "_Nvt2A6fkP0y"
      },
      "execution_count": null,
      "outputs": []
    },
    {
      "cell_type": "markdown",
      "source": [
        "**Converting non readable format of page content to readable format**"
      ],
      "metadata": {
        "id": "DnHeMglukdmX"
      }
    },
    {
      "cell_type": "code",
      "source": [
        "soup = bs(page.content,'html.parser')"
      ],
      "metadata": {
        "id": "ThHjJyBKkS8W"
      },
      "execution_count": null,
      "outputs": []
    },
    {
      "cell_type": "markdown",
      "source": [
        "**Extracting link from single link**"
      ],
      "metadata": {
        "id": "YPG_6PegR7SZ"
      }
    },
    {
      "cell_type": "code",
      "source": [
        "def extract_data_from_link(link):\n",
        "    response = requests.get(link)\n",
        "    soup = BeautifulSoup(response.content, 'html.parser') # Extract data from the soup object"
      ],
      "metadata": {
        "id": "PyUmwJjkrtkz"
      },
      "execution_count": null,
      "outputs": []
    },
    {
      "cell_type": "markdown",
      "source": [
        "Extracting text from article"
      ],
      "metadata": {
        "id": "bpHg7-x3CK_Y"
      }
    },
    {
      "cell_type": "code",
      "source": [
        "article_text = soup.find(attrs={'class':'td-post-content tagdiv-type'})\n",
        "article = article_text.get_text().replace(\"\\n\",\"\")\n",
        "article"
      ],
      "metadata": {
        "id": "e7zBKunhmgOd",
        "colab": {
          "base_uri": "https://localhost:8080/",
          "height": 140
        },
        "outputId": "20fa0363-cd7d-4b7a-ef6e-1075d98f9ca0"
      },
      "execution_count": null,
      "outputs": [
        {
          "output_type": "execute_result",
          "data": {
            "text/plain": [
              "'Throughout history, from the industrial revolution in the 18th century through the development of the Internet, technology has been the primary driver of societal change. It has aided in turning cities into smart urban centers that provide more opportunities and improvements in quality of life. It continues to play a crucial role in altering the world. Cities are acting as engines of economic growth and modernization as they become more technologically advanced, considerably accelerating the trajectory of global development. Technology has had nothing short of revolutionary effects on Indian cities, ushering in a new era of change and advancement. India’s metropolitan centers\\xa0have embraced technology in ways that are transforming the fundamental fabric of urban life, from infrastructure to governance and beyond, as the world rushes into the digital age.India’s cities must play a crucial part if the nation is to develop into a worldwide economic powerhouse. One of the world’s economies with the greatest growth rates, India aims to reach US$5 trillion in GDP by 2026 and US$40 trillion by 2047, the year it will celebrate 100 years of independence. The idea of smart cities is one of technology’s most obvious effects. Indian cities are progressively implementing cutting-edge technologies to build effective, linked urban landscapes. To improve the quality of life for people, smart cities use data analytics, the Internet of Things (IoT), and automation. Smart traffic management solutions, for instance, improve traffic flow while lowering congestion and air pollution. Sensor-based garbage collection improves waste management, resulting in cleaner and healthier settings.To become a major player in the world economy, however, several steps are being followed. A crucial one relates to India’s ongoing urbanization development. Between 1970 and 2018, the population of Indian cities is predicted to have expanded from 109 million to 460 million, nearly a fourfold increase.The nation, which already has the second-largest urban population in the world, is predicted to have a 50% urban population share by 2050 after adding 416 million residents to its cities.4 Cities are the centers of economic growth and innovation because they are home to innovative businesses, better-paying employment, and important institutions. (Kolkata, Delhi, Mumbai, Chennai)Cities foster increased productivity through several routes, generally known as agglomeration economies, by permitting close contact between businesses and employees. The theory’s main consequence is that businesses in bigger and/or denser cities should be more productive. In the year 2035, urbanization has had a significant impact on both India and the rest of the world. India now boasts the third-largest economy in the world, only behind China and the United States. In this new period, China has already exceeded the USA in terms of economic size, while India has surpassed Japan to claim a higher place. Although India has 675 million people living in urbanized cities, China has a stunning one billion people living in urbanized cities.Urbanization has both advantages and disadvantages, including financial expenditures. Although city growth can result in better possibilities and a higher standard of living, it also presents difficulties and issues. Rapid urbanization has the potential to deplete resources, harm the environment, and worsen socioeconomic inequities. Depending on how well these problems are solved, urbanization will either have a favorable or negative overall effect.With more than half of the world’s population now living in cities, urbanization has emerged as a major force for development. But it also presents fresh difficulties and chances, reshaping the planet and our way of life in unexpected ways. A future where artificial intelligence (AI) is increasingly pervasive and has an impact on many parts of our daily lives has been ushered in by this shift. Urbanization has improved living conditions and economic opportunities, but it also calls for careful management and sustainable practices to guarantee a bright and prosperous future for everybody.Similarly, to this, a nation’s population and demography can contribute significantly to its growth. India’s rapidly rising working-age population will be in its favor, and the nation is expected to host some of the fastest-growing cities in the world in the years to come. The West is also taken aback by the annual GDP growth rate of the cities that are predicted to top the charts. Aside from a few towns in Southeast Asia, all of the cities are now from the Asian bloc, which is primarily controlled by India and China. Bangalore, which has had an enormous 8.5 percent GDP growth, is in first place, followed by Dhaka, Mumbai, and Delhi. Bangalore’s startup culture and enormous skill pool set it apart from other cities. Bangalore itself is probably going to be the future Silicon Valley of Asia and the entire world. It currently creates a tremendous number of startups. It has the potential to rank among the world’s most urbanized cities. These cities will outpace the global average yearly GDP growth rate, which is expected to be about 2.5%, by a sizeable margin.Undoubtedly, nations will expand and cities will modernize to meet societal demands. Urban city growth has mostly been attributed to rural-to-urban migration. However, the future will be better for us and our offspring if we can maintain a balance between the environment and sustainable growth. We are being impacted by climate change, which is real. In large areas, the effects of climate change will harm the environment through prolonged heat waves, more irregular rainfall, drought, and flooding.As we can see in Pakistan, China, and Europe. Europe as a whole has seen heat waves that have disrupted society, and China is currently dealing with extreme heat waves that are drying up the rivers and making it impossible to produce hydroelectricity. In Pakistan, there were an unusually high number of floods. Out of 160 districts, 110 are underwater, representing a loss of roughly $10 billion.\\xa0 Rural agrarian and pastoralist types of society, which heavily rely on the environment, are severely impacted by these effects. Climate-driven migration is projected to rise as livelihoods all around the world are affected more and more by climate change.The broader prospects of regional environments are likewise impacted by urbanization. Large increases in the amount of air pollution, precipitation, and the frequency of days with thunderstorms are also observed in areas that are downwind from large industrial complexes. Urban regions produce more precipitation, but they also have less water filtration, which lowers the water tables. Urban areas consume significantly more energy than rural communities do for heating, cooking, transportation, and electricity. For instance, today’s metropolitan populations have more cars than rural ones.Due to technology, both healthcare and education are going through significant changes. By extending access to high-quality education outside the walls of traditional classrooms, online education platforms are democratizing learning. Remote places are now being reached by telemedicine, which allows doctors to diagnose and treat patients at a distance and close healthcare gaps. These advancements are essential in a large, varied nation like India where achieving fair access to healthcare and education has historically proven difficult.The effect of technology on job trends is another factor to take into account. Technology opens up new possibilities, but it also challenges established employment positions, raising concerns about job displacement and the need for skill upgrading. To ensure that no one is left behind in the wake of these changes, it is essential to strike a balance between technological advancement and social welfare.Technology also stimulates economic development and entrepreneurship. A wider audience can now be reached by small enterprises thanks to the growth of digital platforms, promoting economic inclusion. The gig economy is altering established labor patterns and creating new employment opportunities as a result of technology-driven platforms. In tech centers like Bengaluru, Hyderabad, and Pune, startups are thriving and fostering innovation in a variety of industries.However, the rapid advancement of technology also creates problems and worries. Urbanization and technology improvements have given rise to problems like the digital divide and data privacy worries. Technology benefits major cities, while rural populations struggle to get even the most basic digital services, escalating disparities. Additionally, concerns regarding data security and privacy are raised by our growing reliance on technology. Protecting personal information becomes more important as more areas of urban life are digitalized.In conclusion, technology is permanently changing Indian cities, transforming them into vibrant, connected, and effective urban hubs. Due to technology breakthroughs, smart cities, e-governance, education, healthcare, and entrepreneurship are all seeing substantial improvements. These adjustments, though, come with obligations. To close the digital divide, safeguard the privacy of citizen data, and guarantee that the advantages of technology are dispersed fairly, policymakers must collaborate. India’s cities have the ability to lead the way in innovation, progress, and inclusivity in the twenty-first century if they can fully realize their potential and overcome their issues.Blackcoffer Insights 47: Barenya Sarangi, SIIB, PUNE'"
            ],
            "application/vnd.google.colaboratory.intrinsic+json": {
              "type": "string"
            }
          },
          "metadata": {},
          "execution_count": 9
        }
      ]
    },
    {
      "cell_type": "code",
      "source": [
        "#Text Extracted Successfully and converted into list\n",
        "paragraph = article_text.get_text().replace(\"\\n\",\"\")\n",
        "words = paragraph.split()\n",
        "print(words)\n",
        "words_length = len(words)\n",
        "words_length #WORD Count"
      ],
      "metadata": {
        "colab": {
          "base_uri": "https://localhost:8080/"
        },
        "id": "fJ3oBQbxmsjN",
        "outputId": "bf709883-b126-4ba9-aaf2-4c61a095f726"
      },
      "execution_count": null,
      "outputs": [
        {
          "output_type": "stream",
          "name": "stdout",
          "text": [
            "['Throughout', 'history,', 'from', 'the', 'industrial', 'revolution', 'in', 'the', '18th', 'century', 'through', 'the', 'development', 'of', 'the', 'Internet,', 'technology', 'has', 'been', 'the', 'primary', 'driver', 'of', 'societal', 'change.', 'It', 'has', 'aided', 'in', 'turning', 'cities', 'into', 'smart', 'urban', 'centers', 'that', 'provide', 'more', 'opportunities', 'and', 'improvements', 'in', 'quality', 'of', 'life.', 'It', 'continues', 'to', 'play', 'a', 'crucial', 'role', 'in', 'altering', 'the', 'world.', 'Cities', 'are', 'acting', 'as', 'engines', 'of', 'economic', 'growth', 'and', 'modernization', 'as', 'they', 'become', 'more', 'technologically', 'advanced,', 'considerably', 'accelerating', 'the', 'trajectory', 'of', 'global', 'development.', 'Technology', 'has', 'had', 'nothing', 'short', 'of', 'revolutionary', 'effects', 'on', 'Indian', 'cities,', 'ushering', 'in', 'a', 'new', 'era', 'of', 'change', 'and', 'advancement.', 'India’s', 'metropolitan', 'centers', 'have', 'embraced', 'technology', 'in', 'ways', 'that', 'are', 'transforming', 'the', 'fundamental', 'fabric', 'of', 'urban', 'life,', 'from', 'infrastructure', 'to', 'governance', 'and', 'beyond,', 'as', 'the', 'world', 'rushes', 'into', 'the', 'digital', 'age.India’s', 'cities', 'must', 'play', 'a', 'crucial', 'part', 'if', 'the', 'nation', 'is', 'to', 'develop', 'into', 'a', 'worldwide', 'economic', 'powerhouse.', 'One', 'of', 'the', 'world’s', 'economies', 'with', 'the', 'greatest', 'growth', 'rates,', 'India', 'aims', 'to', 'reach', 'US$5', 'trillion', 'in', 'GDP', 'by', '2026', 'and', 'US$40', 'trillion', 'by', '2047,', 'the', 'year', 'it', 'will', 'celebrate', '100', 'years', 'of', 'independence.', 'The', 'idea', 'of', 'smart', 'cities', 'is', 'one', 'of', 'technology’s', 'most', 'obvious', 'effects.', 'Indian', 'cities', 'are', 'progressively', 'implementing', 'cutting-edge', 'technologies', 'to', 'build', 'effective,', 'linked', 'urban', 'landscapes.', 'To', 'improve', 'the', 'quality', 'of', 'life', 'for', 'people,', 'smart', 'cities', 'use', 'data', 'analytics,', 'the', 'Internet', 'of', 'Things', '(IoT),', 'and', 'automation.', 'Smart', 'traffic', 'management', 'solutions,', 'for', 'instance,', 'improve', 'traffic', 'flow', 'while', 'lowering', 'congestion', 'and', 'air', 'pollution.', 'Sensor-based', 'garbage', 'collection', 'improves', 'waste', 'management,', 'resulting', 'in', 'cleaner', 'and', 'healthier', 'settings.To', 'become', 'a', 'major', 'player', 'in', 'the', 'world', 'economy,', 'however,', 'several', 'steps', 'are', 'being', 'followed.', 'A', 'crucial', 'one', 'relates', 'to', 'India’s', 'ongoing', 'urbanization', 'development.', 'Between', '1970', 'and', '2018,', 'the', 'population', 'of', 'Indian', 'cities', 'is', 'predicted', 'to', 'have', 'expanded', 'from', '109', 'million', 'to', '460', 'million,', 'nearly', 'a', 'fourfold', 'increase.The', 'nation,', 'which', 'already', 'has', 'the', 'second-largest', 'urban', 'population', 'in', 'the', 'world,', 'is', 'predicted', 'to', 'have', 'a', '50%', 'urban', 'population', 'share', 'by', '2050', 'after', 'adding', '416', 'million', 'residents', 'to', 'its', 'cities.4', 'Cities', 'are', 'the', 'centers', 'of', 'economic', 'growth', 'and', 'innovation', 'because', 'they', 'are', 'home', 'to', 'innovative', 'businesses,', 'better-paying', 'employment,', 'and', 'important', 'institutions.', '(Kolkata,', 'Delhi,', 'Mumbai,', 'Chennai)Cities', 'foster', 'increased', 'productivity', 'through', 'several', 'routes,', 'generally', 'known', 'as', 'agglomeration', 'economies,', 'by', 'permitting', 'close', 'contact', 'between', 'businesses', 'and', 'employees.', 'The', 'theory’s', 'main', 'consequence', 'is', 'that', 'businesses', 'in', 'bigger', 'and/or', 'denser', 'cities', 'should', 'be', 'more', 'productive.', 'In', 'the', 'year', '2035,', 'urbanization', 'has', 'had', 'a', 'significant', 'impact', 'on', 'both', 'India', 'and', 'the', 'rest', 'of', 'the', 'world.', 'India', 'now', 'boasts', 'the', 'third-largest', 'economy', 'in', 'the', 'world,', 'only', 'behind', 'China', 'and', 'the', 'United', 'States.', 'In', 'this', 'new', 'period,', 'China', 'has', 'already', 'exceeded', 'the', 'USA', 'in', 'terms', 'of', 'economic', 'size,', 'while', 'India', 'has', 'surpassed', 'Japan', 'to', 'claim', 'a', 'higher', 'place.', 'Although', 'India', 'has', '675', 'million', 'people', 'living', 'in', 'urbanized', 'cities,', 'China', 'has', 'a', 'stunning', 'one', 'billion', 'people', 'living', 'in', 'urbanized', 'cities.Urbanization', 'has', 'both', 'advantages', 'and', 'disadvantages,', 'including', 'financial', 'expenditures.', 'Although', 'city', 'growth', 'can', 'result', 'in', 'better', 'possibilities', 'and', 'a', 'higher', 'standard', 'of', 'living,', 'it', 'also', 'presents', 'difficulties', 'and', 'issues.', 'Rapid', 'urbanization', 'has', 'the', 'potential', 'to', 'deplete', 'resources,', 'harm', 'the', 'environment,', 'and', 'worsen', 'socioeconomic', 'inequities.', 'Depending', 'on', 'how', 'well', 'these', 'problems', 'are', 'solved,', 'urbanization', 'will', 'either', 'have', 'a', 'favorable', 'or', 'negative', 'overall', 'effect.With', 'more', 'than', 'half', 'of', 'the', 'world’s', 'population', 'now', 'living', 'in', 'cities,', 'urbanization', 'has', 'emerged', 'as', 'a', 'major', 'force', 'for', 'development.', 'But', 'it', 'also', 'presents', 'fresh', 'difficulties', 'and', 'chances,', 'reshaping', 'the', 'planet', 'and', 'our', 'way', 'of', 'life', 'in', 'unexpected', 'ways.', 'A', 'future', 'where', 'artificial', 'intelligence', '(AI)', 'is', 'increasingly', 'pervasive', 'and', 'has', 'an', 'impact', 'on', 'many', 'parts', 'of', 'our', 'daily', 'lives', 'has', 'been', 'ushered', 'in', 'by', 'this', 'shift.', 'Urbanization', 'has', 'improved', 'living', 'conditions', 'and', 'economic', 'opportunities,', 'but', 'it', 'also', 'calls', 'for', 'careful', 'management', 'and', 'sustainable', 'practices', 'to', 'guarantee', 'a', 'bright', 'and', 'prosperous', 'future', 'for', 'everybody.Similarly,', 'to', 'this,', 'a', 'nation’s', 'population', 'and', 'demography', 'can', 'contribute', 'significantly', 'to', 'its', 'growth.', 'India’s', 'rapidly', 'rising', 'working-age', 'population', 'will', 'be', 'in', 'its', 'favor,', 'and', 'the', 'nation', 'is', 'expected', 'to', 'host', 'some', 'of', 'the', 'fastest-growing', 'cities', 'in', 'the', 'world', 'in', 'the', 'years', 'to', 'come.', 'The', 'West', 'is', 'also', 'taken', 'aback', 'by', 'the', 'annual', 'GDP', 'growth', 'rate', 'of', 'the', 'cities', 'that', 'are', 'predicted', 'to', 'top', 'the', 'charts.', 'Aside', 'from', 'a', 'few', 'towns', 'in', 'Southeast', 'Asia,', 'all', 'of', 'the', 'cities', 'are', 'now', 'from', 'the', 'Asian', 'bloc,', 'which', 'is', 'primarily', 'controlled', 'by', 'India', 'and', 'China.', 'Bangalore,', 'which', 'has', 'had', 'an', 'enormous', '8.5', 'percent', 'GDP', 'growth,', 'is', 'in', 'first', 'place,', 'followed', 'by', 'Dhaka,', 'Mumbai,', 'and', 'Delhi.', 'Bangalore’s', 'startup', 'culture', 'and', 'enormous', 'skill', 'pool', 'set', 'it', 'apart', 'from', 'other', 'cities.', 'Bangalore', 'itself', 'is', 'probably', 'going', 'to', 'be', 'the', 'future', 'Silicon', 'Valley', 'of', 'Asia', 'and', 'the', 'entire', 'world.', 'It', 'currently', 'creates', 'a', 'tremendous', 'number', 'of', 'startups.', 'It', 'has', 'the', 'potential', 'to', 'rank', 'among', 'the', 'world’s', 'most', 'urbanized', 'cities.', 'These', 'cities', 'will', 'outpace', 'the', 'global', 'average', 'yearly', 'GDP', 'growth', 'rate,', 'which', 'is', 'expected', 'to', 'be', 'about', '2.5%,', 'by', 'a', 'sizeable', 'margin.Undoubtedly,', 'nations', 'will', 'expand', 'and', 'cities', 'will', 'modernize', 'to', 'meet', 'societal', 'demands.', 'Urban', 'city', 'growth', 'has', 'mostly', 'been', 'attributed', 'to', 'rural-to-urban', 'migration.', 'However,', 'the', 'future', 'will', 'be', 'better', 'for', 'us', 'and', 'our', 'offspring', 'if', 'we', 'can', 'maintain', 'a', 'balance', 'between', 'the', 'environment', 'and', 'sustainable', 'growth.', 'We', 'are', 'being', 'impacted', 'by', 'climate', 'change,', 'which', 'is', 'real.', 'In', 'large', 'areas,', 'the', 'effects', 'of', 'climate', 'change', 'will', 'harm', 'the', 'environment', 'through', 'prolonged', 'heat', 'waves,', 'more', 'irregular', 'rainfall,', 'drought,', 'and', 'flooding.As', 'we', 'can', 'see', 'in', 'Pakistan,', 'China,', 'and', 'Europe.', 'Europe', 'as', 'a', 'whole', 'has', 'seen', 'heat', 'waves', 'that', 'have', 'disrupted', 'society,', 'and', 'China', 'is', 'currently', 'dealing', 'with', 'extreme', 'heat', 'waves', 'that', 'are', 'drying', 'up', 'the', 'rivers', 'and', 'making', 'it', 'impossible', 'to', 'produce', 'hydroelectricity.', 'In', 'Pakistan,', 'there', 'were', 'an', 'unusually', 'high', 'number', 'of', 'floods.', 'Out', 'of', '160', 'districts,', '110', 'are', 'underwater,', 'representing', 'a', 'loss', 'of', 'roughly', '$10', 'billion.', 'Rural', 'agrarian', 'and', 'pastoralist', 'types', 'of', 'society,', 'which', 'heavily', 'rely', 'on', 'the', 'environment,', 'are', 'severely', 'impacted', 'by', 'these', 'effects.', 'Climate-driven', 'migration', 'is', 'projected', 'to', 'rise', 'as', 'livelihoods', 'all', 'around', 'the', 'world', 'are', 'affected', 'more', 'and', 'more', 'by', 'climate', 'change.The', 'broader', 'prospects', 'of', 'regional', 'environments', 'are', 'likewise', 'impacted', 'by', 'urbanization.', 'Large', 'increases', 'in', 'the', 'amount', 'of', 'air', 'pollution,', 'precipitation,', 'and', 'the', 'frequency', 'of', 'days', 'with', 'thunderstorms', 'are', 'also', 'observed', 'in', 'areas', 'that', 'are', 'downwind', 'from', 'large', 'industrial', 'complexes.', 'Urban', 'regions', 'produce', 'more', 'precipitation,', 'but', 'they', 'also', 'have', 'less', 'water', 'filtration,', 'which', 'lowers', 'the', 'water', 'tables.', 'Urban', 'areas', 'consume', 'significantly', 'more', 'energy', 'than', 'rural', 'communities', 'do', 'for', 'heating,', 'cooking,', 'transportation,', 'and', 'electricity.', 'For', 'instance,', 'today’s', 'metropolitan', 'populations', 'have', 'more', 'cars', 'than', 'rural', 'ones.Due', 'to', 'technology,', 'both', 'healthcare', 'and', 'education', 'are', 'going', 'through', 'significant', 'changes.', 'By', 'extending', 'access', 'to', 'high-quality', 'education', 'outside', 'the', 'walls', 'of', 'traditional', 'classrooms,', 'online', 'education', 'platforms', 'are', 'democratizing', 'learning.', 'Remote', 'places', 'are', 'now', 'being', 'reached', 'by', 'telemedicine,', 'which', 'allows', 'doctors', 'to', 'diagnose', 'and', 'treat', 'patients', 'at', 'a', 'distance', 'and', 'close', 'healthcare', 'gaps.', 'These', 'advancements', 'are', 'essential', 'in', 'a', 'large,', 'varied', 'nation', 'like', 'India', 'where', 'achieving', 'fair', 'access', 'to', 'healthcare', 'and', 'education', 'has', 'historically', 'proven', 'difficult.The', 'effect', 'of', 'technology', 'on', 'job', 'trends', 'is', 'another', 'factor', 'to', 'take', 'into', 'account.', 'Technology', 'opens', 'up', 'new', 'possibilities,', 'but', 'it', 'also', 'challenges', 'established', 'employment', 'positions,', 'raising', 'concerns', 'about', 'job', 'displacement', 'and', 'the', 'need', 'for', 'skill', 'upgrading.', 'To', 'ensure', 'that', 'no', 'one', 'is', 'left', 'behind', 'in', 'the', 'wake', 'of', 'these', 'changes,', 'it', 'is', 'essential', 'to', 'strike', 'a', 'balance', 'between', 'technological', 'advancement', 'and', 'social', 'welfare.Technology', 'also', 'stimulates', 'economic', 'development', 'and', 'entrepreneurship.', 'A', 'wider', 'audience', 'can', 'now', 'be', 'reached', 'by', 'small', 'enterprises', 'thanks', 'to', 'the', 'growth', 'of', 'digital', 'platforms,', 'promoting', 'economic', 'inclusion.', 'The', 'gig', 'economy', 'is', 'altering', 'established', 'labor', 'patterns', 'and', 'creating', 'new', 'employment', 'opportunities', 'as', 'a', 'result', 'of', 'technology-driven', 'platforms.', 'In', 'tech', 'centers', 'like', 'Bengaluru,', 'Hyderabad,', 'and', 'Pune,', 'startups', 'are', 'thriving', 'and', 'fostering', 'innovation', 'in', 'a', 'variety', 'of', 'industries.However,', 'the', 'rapid', 'advancement', 'of', 'technology', 'also', 'creates', 'problems', 'and', 'worries.', 'Urbanization', 'and', 'technology', 'improvements', 'have', 'given', 'rise', 'to', 'problems', 'like', 'the', 'digital', 'divide', 'and', 'data', 'privacy', 'worries.', 'Technology', 'benefits', 'major', 'cities,', 'while', 'rural', 'populations', 'struggle', 'to', 'get', 'even', 'the', 'most', 'basic', 'digital', 'services,', 'escalating', 'disparities.', 'Additionally,', 'concerns', 'regarding', 'data', 'security', 'and', 'privacy', 'are', 'raised', 'by', 'our', 'growing', 'reliance', 'on', 'technology.', 'Protecting', 'personal', 'information', 'becomes', 'more', 'important', 'as', 'more', 'areas', 'of', 'urban', 'life', 'are', 'digitalized.In', 'conclusion,', 'technology', 'is', 'permanently', 'changing', 'Indian', 'cities,', 'transforming', 'them', 'into', 'vibrant,', 'connected,', 'and', 'effective', 'urban', 'hubs.', 'Due', 'to', 'technology', 'breakthroughs,', 'smart', 'cities,', 'e-governance,', 'education,', 'healthcare,', 'and', 'entrepreneurship', 'are', 'all', 'seeing', 'substantial', 'improvements.', 'These', 'adjustments,', 'though,', 'come', 'with', 'obligations.', 'To', 'close', 'the', 'digital', 'divide,', 'safeguard', 'the', 'privacy', 'of', 'citizen', 'data,', 'and', 'guarantee', 'that', 'the', 'advantages', 'of', 'technology', 'are', 'dispersed', 'fairly,', 'policymakers', 'must', 'collaborate.', 'India’s', 'cities', 'have', 'the', 'ability', 'to', 'lead', 'the', 'way', 'in', 'innovation,', 'progress,', 'and', 'inclusivity', 'in', 'the', 'twenty-first', 'century', 'if', 'they', 'can', 'fully', 'realize', 'their', 'potential', 'and', 'overcome', 'their', 'issues.Blackcoffer', 'Insights', '47:', 'Barenya', 'Sarangi,', 'SIIB,', 'PUNE']\n"
          ]
        },
        {
          "output_type": "execute_result",
          "data": {
            "text/plain": [
              "1444"
            ]
          },
          "metadata": {},
          "execution_count": 10
        }
      ]
    },
    {
      "cell_type": "markdown",
      "source": [
        "**Average Length of Words**"
      ],
      "metadata": {
        "id": "YeBNKZK_E8x-"
      }
    },
    {
      "cell_type": "code",
      "source": [
        "paragraph_len = len(words)\n",
        "avg_len = sum(len(words[i]) for i in range(paragraph_len))/paragraph_len\n",
        "print(\"Average Length of Words : \" ,int(avg_len))"
      ],
      "metadata": {
        "colab": {
          "base_uri": "https://localhost:8080/"
        },
        "id": "l0EPvyAy8Lkr",
        "outputId": "1be40a80-803b-420c-cdee-1ef28249facc"
      },
      "execution_count": null,
      "outputs": [
        {
          "output_type": "stream",
          "name": "stdout",
          "text": [
            "Average Length of Words :  5\n"
          ]
        }
      ]
    },
    {
      "cell_type": "markdown",
      "source": [
        "**Extracting Title**"
      ],
      "metadata": {
        "id": "fDQUDP3fvsXy"
      }
    },
    {
      "cell_type": "code",
      "source": [
        "article_text = soup.find(attrs={'class':'td-post-title'}) #accessing the class of the title from inspect\n",
        "article_text.get_text().replace(\"\\n\",\"\")\n",
        "title = soup.title.string\n",
        "title #title extracted"
      ],
      "metadata": {
        "id": "CRyoldRjTSfZ",
        "colab": {
          "base_uri": "https://localhost:8080/",
          "height": 35
        },
        "outputId": "be51f330-095f-4079-e26f-78c8d00e687d"
      },
      "execution_count": null,
      "outputs": [
        {
          "output_type": "execute_result",
          "data": {
            "text/plain": [
              "'Rising IT Cities and Their Impact on the Economy, Environment, Infrastructure, and City Life in Future - Blackcoffer Insights'"
            ],
            "application/vnd.google.colaboratory.intrinsic+json": {
              "type": "string"
            }
          },
          "metadata": {},
          "execution_count": 12
        }
      ]
    },
    {
      "cell_type": "code",
      "source": [
        "#Text Extracted Successfully and converted into list\n",
        "word_lists = title.split()\n",
        "print(word_lists)"
      ],
      "metadata": {
        "colab": {
          "base_uri": "https://localhost:8080/"
        },
        "id": "GJLOny4NboyJ",
        "outputId": "9f67116c-1dbc-43e4-ec99-072c8dfbaa6a"
      },
      "execution_count": null,
      "outputs": [
        {
          "output_type": "stream",
          "name": "stdout",
          "text": [
            "['Rising', 'IT', 'Cities', 'and', 'Their', 'Impact', 'on', 'the', 'Economy,', 'Environment,', 'Infrastructure,', 'and', 'City', 'Life', 'in', 'Future', '-', 'Blackcoffer', 'Insights']\n"
          ]
        }
      ]
    },
    {
      "cell_type": "code",
      "source": [
        "title_and_text = []\n",
        "title_and_text = word_lists + words\n",
        "print(title_and_text)"
      ],
      "metadata": {
        "colab": {
          "base_uri": "https://localhost:8080/"
        },
        "id": "HkbvPD4Ie6tD",
        "outputId": "72c4bc7b-24a4-45a6-8076-4372b5779927"
      },
      "execution_count": null,
      "outputs": [
        {
          "output_type": "stream",
          "name": "stdout",
          "text": [
            "['Rising', 'IT', 'Cities', 'and', 'Their', 'Impact', 'on', 'the', 'Economy,', 'Environment,', 'Infrastructure,', 'and', 'City', 'Life', 'in', 'Future', '-', 'Blackcoffer', 'Insights', 'Throughout', 'history,', 'from', 'the', 'industrial', 'revolution', 'in', 'the', '18th', 'century', 'through', 'the', 'development', 'of', 'the', 'Internet,', 'technology', 'has', 'been', 'the', 'primary', 'driver', 'of', 'societal', 'change.', 'It', 'has', 'aided', 'in', 'turning', 'cities', 'into', 'smart', 'urban', 'centers', 'that', 'provide', 'more', 'opportunities', 'and', 'improvements', 'in', 'quality', 'of', 'life.', 'It', 'continues', 'to', 'play', 'a', 'crucial', 'role', 'in', 'altering', 'the', 'world.', 'Cities', 'are', 'acting', 'as', 'engines', 'of', 'economic', 'growth', 'and', 'modernization', 'as', 'they', 'become', 'more', 'technologically', 'advanced,', 'considerably', 'accelerating', 'the', 'trajectory', 'of', 'global', 'development.', 'Technology', 'has', 'had', 'nothing', 'short', 'of', 'revolutionary', 'effects', 'on', 'Indian', 'cities,', 'ushering', 'in', 'a', 'new', 'era', 'of', 'change', 'and', 'advancement.', 'India’s', 'metropolitan', 'centers', 'have', 'embraced', 'technology', 'in', 'ways', 'that', 'are', 'transforming', 'the', 'fundamental', 'fabric', 'of', 'urban', 'life,', 'from', 'infrastructure', 'to', 'governance', 'and', 'beyond,', 'as', 'the', 'world', 'rushes', 'into', 'the', 'digital', 'age.India’s', 'cities', 'must', 'play', 'a', 'crucial', 'part', 'if', 'the', 'nation', 'is', 'to', 'develop', 'into', 'a', 'worldwide', 'economic', 'powerhouse.', 'One', 'of', 'the', 'world’s', 'economies', 'with', 'the', 'greatest', 'growth', 'rates,', 'India', 'aims', 'to', 'reach', 'US$5', 'trillion', 'in', 'GDP', 'by', '2026', 'and', 'US$40', 'trillion', 'by', '2047,', 'the', 'year', 'it', 'will', 'celebrate', '100', 'years', 'of', 'independence.', 'The', 'idea', 'of', 'smart', 'cities', 'is', 'one', 'of', 'technology’s', 'most', 'obvious', 'effects.', 'Indian', 'cities', 'are', 'progressively', 'implementing', 'cutting-edge', 'technologies', 'to', 'build', 'effective,', 'linked', 'urban', 'landscapes.', 'To', 'improve', 'the', 'quality', 'of', 'life', 'for', 'people,', 'smart', 'cities', 'use', 'data', 'analytics,', 'the', 'Internet', 'of', 'Things', '(IoT),', 'and', 'automation.', 'Smart', 'traffic', 'management', 'solutions,', 'for', 'instance,', 'improve', 'traffic', 'flow', 'while', 'lowering', 'congestion', 'and', 'air', 'pollution.', 'Sensor-based', 'garbage', 'collection', 'improves', 'waste', 'management,', 'resulting', 'in', 'cleaner', 'and', 'healthier', 'settings.To', 'become', 'a', 'major', 'player', 'in', 'the', 'world', 'economy,', 'however,', 'several', 'steps', 'are', 'being', 'followed.', 'A', 'crucial', 'one', 'relates', 'to', 'India’s', 'ongoing', 'urbanization', 'development.', 'Between', '1970', 'and', '2018,', 'the', 'population', 'of', 'Indian', 'cities', 'is', 'predicted', 'to', 'have', 'expanded', 'from', '109', 'million', 'to', '460', 'million,', 'nearly', 'a', 'fourfold', 'increase.The', 'nation,', 'which', 'already', 'has', 'the', 'second-largest', 'urban', 'population', 'in', 'the', 'world,', 'is', 'predicted', 'to', 'have', 'a', '50%', 'urban', 'population', 'share', 'by', '2050', 'after', 'adding', '416', 'million', 'residents', 'to', 'its', 'cities.4', 'Cities', 'are', 'the', 'centers', 'of', 'economic', 'growth', 'and', 'innovation', 'because', 'they', 'are', 'home', 'to', 'innovative', 'businesses,', 'better-paying', 'employment,', 'and', 'important', 'institutions.', '(Kolkata,', 'Delhi,', 'Mumbai,', 'Chennai)Cities', 'foster', 'increased', 'productivity', 'through', 'several', 'routes,', 'generally', 'known', 'as', 'agglomeration', 'economies,', 'by', 'permitting', 'close', 'contact', 'between', 'businesses', 'and', 'employees.', 'The', 'theory’s', 'main', 'consequence', 'is', 'that', 'businesses', 'in', 'bigger', 'and/or', 'denser', 'cities', 'should', 'be', 'more', 'productive.', 'In', 'the', 'year', '2035,', 'urbanization', 'has', 'had', 'a', 'significant', 'impact', 'on', 'both', 'India', 'and', 'the', 'rest', 'of', 'the', 'world.', 'India', 'now', 'boasts', 'the', 'third-largest', 'economy', 'in', 'the', 'world,', 'only', 'behind', 'China', 'and', 'the', 'United', 'States.', 'In', 'this', 'new', 'period,', 'China', 'has', 'already', 'exceeded', 'the', 'USA', 'in', 'terms', 'of', 'economic', 'size,', 'while', 'India', 'has', 'surpassed', 'Japan', 'to', 'claim', 'a', 'higher', 'place.', 'Although', 'India', 'has', '675', 'million', 'people', 'living', 'in', 'urbanized', 'cities,', 'China', 'has', 'a', 'stunning', 'one', 'billion', 'people', 'living', 'in', 'urbanized', 'cities.Urbanization', 'has', 'both', 'advantages', 'and', 'disadvantages,', 'including', 'financial', 'expenditures.', 'Although', 'city', 'growth', 'can', 'result', 'in', 'better', 'possibilities', 'and', 'a', 'higher', 'standard', 'of', 'living,', 'it', 'also', 'presents', 'difficulties', 'and', 'issues.', 'Rapid', 'urbanization', 'has', 'the', 'potential', 'to', 'deplete', 'resources,', 'harm', 'the', 'environment,', 'and', 'worsen', 'socioeconomic', 'inequities.', 'Depending', 'on', 'how', 'well', 'these', 'problems', 'are', 'solved,', 'urbanization', 'will', 'either', 'have', 'a', 'favorable', 'or', 'negative', 'overall', 'effect.With', 'more', 'than', 'half', 'of', 'the', 'world’s', 'population', 'now', 'living', 'in', 'cities,', 'urbanization', 'has', 'emerged', 'as', 'a', 'major', 'force', 'for', 'development.', 'But', 'it', 'also', 'presents', 'fresh', 'difficulties', 'and', 'chances,', 'reshaping', 'the', 'planet', 'and', 'our', 'way', 'of', 'life', 'in', 'unexpected', 'ways.', 'A', 'future', 'where', 'artificial', 'intelligence', '(AI)', 'is', 'increasingly', 'pervasive', 'and', 'has', 'an', 'impact', 'on', 'many', 'parts', 'of', 'our', 'daily', 'lives', 'has', 'been', 'ushered', 'in', 'by', 'this', 'shift.', 'Urbanization', 'has', 'improved', 'living', 'conditions', 'and', 'economic', 'opportunities,', 'but', 'it', 'also', 'calls', 'for', 'careful', 'management', 'and', 'sustainable', 'practices', 'to', 'guarantee', 'a', 'bright', 'and', 'prosperous', 'future', 'for', 'everybody.Similarly,', 'to', 'this,', 'a', 'nation’s', 'population', 'and', 'demography', 'can', 'contribute', 'significantly', 'to', 'its', 'growth.', 'India’s', 'rapidly', 'rising', 'working-age', 'population', 'will', 'be', 'in', 'its', 'favor,', 'and', 'the', 'nation', 'is', 'expected', 'to', 'host', 'some', 'of', 'the', 'fastest-growing', 'cities', 'in', 'the', 'world', 'in', 'the', 'years', 'to', 'come.', 'The', 'West', 'is', 'also', 'taken', 'aback', 'by', 'the', 'annual', 'GDP', 'growth', 'rate', 'of', 'the', 'cities', 'that', 'are', 'predicted', 'to', 'top', 'the', 'charts.', 'Aside', 'from', 'a', 'few', 'towns', 'in', 'Southeast', 'Asia,', 'all', 'of', 'the', 'cities', 'are', 'now', 'from', 'the', 'Asian', 'bloc,', 'which', 'is', 'primarily', 'controlled', 'by', 'India', 'and', 'China.', 'Bangalore,', 'which', 'has', 'had', 'an', 'enormous', '8.5', 'percent', 'GDP', 'growth,', 'is', 'in', 'first', 'place,', 'followed', 'by', 'Dhaka,', 'Mumbai,', 'and', 'Delhi.', 'Bangalore’s', 'startup', 'culture', 'and', 'enormous', 'skill', 'pool', 'set', 'it', 'apart', 'from', 'other', 'cities.', 'Bangalore', 'itself', 'is', 'probably', 'going', 'to', 'be', 'the', 'future', 'Silicon', 'Valley', 'of', 'Asia', 'and', 'the', 'entire', 'world.', 'It', 'currently', 'creates', 'a', 'tremendous', 'number', 'of', 'startups.', 'It', 'has', 'the', 'potential', 'to', 'rank', 'among', 'the', 'world’s', 'most', 'urbanized', 'cities.', 'These', 'cities', 'will', 'outpace', 'the', 'global', 'average', 'yearly', 'GDP', 'growth', 'rate,', 'which', 'is', 'expected', 'to', 'be', 'about', '2.5%,', 'by', 'a', 'sizeable', 'margin.Undoubtedly,', 'nations', 'will', 'expand', 'and', 'cities', 'will', 'modernize', 'to', 'meet', 'societal', 'demands.', 'Urban', 'city', 'growth', 'has', 'mostly', 'been', 'attributed', 'to', 'rural-to-urban', 'migration.', 'However,', 'the', 'future', 'will', 'be', 'better', 'for', 'us', 'and', 'our', 'offspring', 'if', 'we', 'can', 'maintain', 'a', 'balance', 'between', 'the', 'environment', 'and', 'sustainable', 'growth.', 'We', 'are', 'being', 'impacted', 'by', 'climate', 'change,', 'which', 'is', 'real.', 'In', 'large', 'areas,', 'the', 'effects', 'of', 'climate', 'change', 'will', 'harm', 'the', 'environment', 'through', 'prolonged', 'heat', 'waves,', 'more', 'irregular', 'rainfall,', 'drought,', 'and', 'flooding.As', 'we', 'can', 'see', 'in', 'Pakistan,', 'China,', 'and', 'Europe.', 'Europe', 'as', 'a', 'whole', 'has', 'seen', 'heat', 'waves', 'that', 'have', 'disrupted', 'society,', 'and', 'China', 'is', 'currently', 'dealing', 'with', 'extreme', 'heat', 'waves', 'that', 'are', 'drying', 'up', 'the', 'rivers', 'and', 'making', 'it', 'impossible', 'to', 'produce', 'hydroelectricity.', 'In', 'Pakistan,', 'there', 'were', 'an', 'unusually', 'high', 'number', 'of', 'floods.', 'Out', 'of', '160', 'districts,', '110', 'are', 'underwater,', 'representing', 'a', 'loss', 'of', 'roughly', '$10', 'billion.', 'Rural', 'agrarian', 'and', 'pastoralist', 'types', 'of', 'society,', 'which', 'heavily', 'rely', 'on', 'the', 'environment,', 'are', 'severely', 'impacted', 'by', 'these', 'effects.', 'Climate-driven', 'migration', 'is', 'projected', 'to', 'rise', 'as', 'livelihoods', 'all', 'around', 'the', 'world', 'are', 'affected', 'more', 'and', 'more', 'by', 'climate', 'change.The', 'broader', 'prospects', 'of', 'regional', 'environments', 'are', 'likewise', 'impacted', 'by', 'urbanization.', 'Large', 'increases', 'in', 'the', 'amount', 'of', 'air', 'pollution,', 'precipitation,', 'and', 'the', 'frequency', 'of', 'days', 'with', 'thunderstorms', 'are', 'also', 'observed', 'in', 'areas', 'that', 'are', 'downwind', 'from', 'large', 'industrial', 'complexes.', 'Urban', 'regions', 'produce', 'more', 'precipitation,', 'but', 'they', 'also', 'have', 'less', 'water', 'filtration,', 'which', 'lowers', 'the', 'water', 'tables.', 'Urban', 'areas', 'consume', 'significantly', 'more', 'energy', 'than', 'rural', 'communities', 'do', 'for', 'heating,', 'cooking,', 'transportation,', 'and', 'electricity.', 'For', 'instance,', 'today’s', 'metropolitan', 'populations', 'have', 'more', 'cars', 'than', 'rural', 'ones.Due', 'to', 'technology,', 'both', 'healthcare', 'and', 'education', 'are', 'going', 'through', 'significant', 'changes.', 'By', 'extending', 'access', 'to', 'high-quality', 'education', 'outside', 'the', 'walls', 'of', 'traditional', 'classrooms,', 'online', 'education', 'platforms', 'are', 'democratizing', 'learning.', 'Remote', 'places', 'are', 'now', 'being', 'reached', 'by', 'telemedicine,', 'which', 'allows', 'doctors', 'to', 'diagnose', 'and', 'treat', 'patients', 'at', 'a', 'distance', 'and', 'close', 'healthcare', 'gaps.', 'These', 'advancements', 'are', 'essential', 'in', 'a', 'large,', 'varied', 'nation', 'like', 'India', 'where', 'achieving', 'fair', 'access', 'to', 'healthcare', 'and', 'education', 'has', 'historically', 'proven', 'difficult.The', 'effect', 'of', 'technology', 'on', 'job', 'trends', 'is', 'another', 'factor', 'to', 'take', 'into', 'account.', 'Technology', 'opens', 'up', 'new', 'possibilities,', 'but', 'it', 'also', 'challenges', 'established', 'employment', 'positions,', 'raising', 'concerns', 'about', 'job', 'displacement', 'and', 'the', 'need', 'for', 'skill', 'upgrading.', 'To', 'ensure', 'that', 'no', 'one', 'is', 'left', 'behind', 'in', 'the', 'wake', 'of', 'these', 'changes,', 'it', 'is', 'essential', 'to', 'strike', 'a', 'balance', 'between', 'technological', 'advancement', 'and', 'social', 'welfare.Technology', 'also', 'stimulates', 'economic', 'development', 'and', 'entrepreneurship.', 'A', 'wider', 'audience', 'can', 'now', 'be', 'reached', 'by', 'small', 'enterprises', 'thanks', 'to', 'the', 'growth', 'of', 'digital', 'platforms,', 'promoting', 'economic', 'inclusion.', 'The', 'gig', 'economy', 'is', 'altering', 'established', 'labor', 'patterns', 'and', 'creating', 'new', 'employment', 'opportunities', 'as', 'a', 'result', 'of', 'technology-driven', 'platforms.', 'In', 'tech', 'centers', 'like', 'Bengaluru,', 'Hyderabad,', 'and', 'Pune,', 'startups', 'are', 'thriving', 'and', 'fostering', 'innovation', 'in', 'a', 'variety', 'of', 'industries.However,', 'the', 'rapid', 'advancement', 'of', 'technology', 'also', 'creates', 'problems', 'and', 'worries.', 'Urbanization', 'and', 'technology', 'improvements', 'have', 'given', 'rise', 'to', 'problems', 'like', 'the', 'digital', 'divide', 'and', 'data', 'privacy', 'worries.', 'Technology', 'benefits', 'major', 'cities,', 'while', 'rural', 'populations', 'struggle', 'to', 'get', 'even', 'the', 'most', 'basic', 'digital', 'services,', 'escalating', 'disparities.', 'Additionally,', 'concerns', 'regarding', 'data', 'security', 'and', 'privacy', 'are', 'raised', 'by', 'our', 'growing', 'reliance', 'on', 'technology.', 'Protecting', 'personal', 'information', 'becomes', 'more', 'important', 'as', 'more', 'areas', 'of', 'urban', 'life', 'are', 'digitalized.In', 'conclusion,', 'technology', 'is', 'permanently', 'changing', 'Indian', 'cities,', 'transforming', 'them', 'into', 'vibrant,', 'connected,', 'and', 'effective', 'urban', 'hubs.', 'Due', 'to', 'technology', 'breakthroughs,', 'smart', 'cities,', 'e-governance,', 'education,', 'healthcare,', 'and', 'entrepreneurship', 'are', 'all', 'seeing', 'substantial', 'improvements.', 'These', 'adjustments,', 'though,', 'come', 'with', 'obligations.', 'To', 'close', 'the', 'digital', 'divide,', 'safeguard', 'the', 'privacy', 'of', 'citizen', 'data,', 'and', 'guarantee', 'that', 'the', 'advantages', 'of', 'technology', 'are', 'dispersed', 'fairly,', 'policymakers', 'must', 'collaborate.', 'India’s', 'cities', 'have', 'the', 'ability', 'to', 'lead', 'the', 'way', 'in', 'innovation,', 'progress,', 'and', 'inclusivity', 'in', 'the', 'twenty-first', 'century', 'if', 'they', 'can', 'fully', 'realize', 'their', 'potential', 'and', 'overcome', 'their', 'issues.Blackcoffer', 'Insights', '47:', 'Barenya', 'Sarangi,', 'SIIB,', 'PUNE', 'Throughout', 'history,', 'from', 'the', 'industrial', 'revolution', 'in', 'the', '18th', 'century', 'through', 'the', 'development', 'of', 'the', 'Internet,', 'technology', 'has', 'been', 'the', 'primary', 'driver', 'of', 'societal', 'change.', 'It', 'has', 'aided', 'in', 'turning', 'cities', 'into', 'smart', 'urban', 'centers', 'that', 'provide', 'more', 'opportunities', 'and', 'improvements', 'in', 'quality', 'of', 'life.', 'It', 'continues', 'to', 'play', 'a', 'crucial', 'role', 'in', 'altering', 'the', 'world.', 'Cities', 'are', 'acting', 'as', 'engines', 'of', 'economic', 'growth', 'and', 'modernization', 'as', 'they', 'become', 'more', 'technologically', 'advanced,', 'considerably', 'accelerating', 'the', 'trajectory', 'of', 'global', 'development.', 'Technology', 'has', 'had', 'nothing', 'short', 'of', 'revolutionary', 'effects', 'on', 'Indian', 'cities,', 'ushering', 'in', 'a', 'new', 'era', 'of', 'change', 'and', 'advancement.', 'India’s', 'metropolitan', 'centers', 'have', 'embraced', 'technology', 'in', 'ways', 'that', 'are', 'transforming', 'the', 'fundamental', 'fabric', 'of', 'urban', 'life,', 'from', 'infrastructure', 'to', 'governance', 'and', 'beyond,', 'as', 'the', 'world', 'rushes', 'into', 'the', 'digital', 'age.India’s', 'cities', 'must', 'play', 'a', 'crucial', 'part', 'if', 'the', 'nation', 'is', 'to', 'develop', 'into', 'a', 'worldwide', 'economic', 'powerhouse.', 'One', 'of', 'the', 'world’s', 'economies', 'with', 'the', 'greatest', 'growth', 'rates,', 'India', 'aims', 'to', 'reach', 'US$5', 'trillion', 'in', 'GDP', 'by', '2026', 'and', 'US$40', 'trillion', 'by', '2047,', 'the', 'year', 'it', 'will', 'celebrate', '100', 'years', 'of', 'independence.', 'The', 'idea', 'of', 'smart', 'cities', 'is', 'one', 'of', 'technology’s', 'most', 'obvious', 'effects.', 'Indian', 'cities', 'are', 'progressively', 'implementing', 'cutting-edge', 'technologies', 'to', 'build', 'effective,', 'linked', 'urban', 'landscapes.', 'To', 'improve', 'the', 'quality', 'of', 'life', 'for', 'people,', 'smart', 'cities', 'use', 'data', 'analytics,', 'the', 'Internet', 'of', 'Things', '(IoT),', 'and', 'automation.', 'Smart', 'traffic', 'management', 'solutions,', 'for', 'instance,', 'improve', 'traffic', 'flow', 'while', 'lowering', 'congestion', 'and', 'air', 'pollution.', 'Sensor-based', 'garbage', 'collection', 'improves', 'waste', 'management,', 'resulting', 'in', 'cleaner', 'and', 'healthier', 'settings.To', 'become', 'a', 'major', 'player', 'in', 'the', 'world', 'economy,', 'however,', 'several', 'steps', 'are', 'being', 'followed.', 'A', 'crucial', 'one', 'relates', 'to', 'India’s', 'ongoing', 'urbanization', 'development.', 'Between', '1970', 'and', '2018,', 'the', 'population', 'of', 'Indian', 'cities', 'is', 'predicted', 'to', 'have', 'expanded', 'from', '109', 'million', 'to', '460', 'million,', 'nearly', 'a', 'fourfold', 'increase.The', 'nation,', 'which', 'already', 'has', 'the', 'second-largest', 'urban', 'population', 'in', 'the', 'world,', 'is', 'predicted', 'to', 'have', 'a', '50%', 'urban', 'population', 'share', 'by', '2050', 'after', 'adding', '416', 'million', 'residents', 'to', 'its', 'cities.4', 'Cities', 'are', 'the', 'centers', 'of', 'economic', 'growth', 'and', 'innovation', 'because', 'they', 'are', 'home', 'to', 'innovative', 'businesses,', 'better-paying', 'employment,', 'and', 'important', 'institutions.', '(Kolkata,', 'Delhi,', 'Mumbai,', 'Chennai)Cities', 'foster', 'increased', 'productivity', 'through', 'several', 'routes,', 'generally', 'known', 'as', 'agglomeration', 'economies,', 'by', 'permitting', 'close', 'contact', 'between', 'businesses', 'and', 'employees.', 'The', 'theory’s', 'main', 'consequence', 'is', 'that', 'businesses', 'in', 'bigger', 'and/or', 'denser', 'cities', 'should', 'be', 'more', 'productive.', 'In', 'the', 'year', '2035,', 'urbanization', 'has', 'had', 'a', 'significant', 'impact', 'on', 'both', 'India', 'and', 'the', 'rest', 'of', 'the', 'world.', 'India', 'now', 'boasts', 'the', 'third-largest', 'economy', 'in', 'the', 'world,', 'only', 'behind', 'China', 'and', 'the', 'United', 'States.', 'In', 'this', 'new', 'period,', 'China', 'has', 'already', 'exceeded', 'the', 'USA', 'in', 'terms', 'of', 'economic', 'size,', 'while', 'India', 'has', 'surpassed', 'Japan', 'to', 'claim', 'a', 'higher', 'place.', 'Although', 'India', 'has', '675', 'million', 'people', 'living', 'in', 'urbanized', 'cities,', 'China', 'has', 'a', 'stunning', 'one', 'billion', 'people', 'living', 'in', 'urbanized', 'cities.Urbanization', 'has', 'both', 'advantages', 'and', 'disadvantages,', 'including', 'financial', 'expenditures.', 'Although', 'city', 'growth', 'can', 'result', 'in', 'better', 'possibilities', 'and', 'a', 'higher', 'standard', 'of', 'living,', 'it', 'also', 'presents', 'difficulties', 'and', 'issues.', 'Rapid', 'urbanization', 'has', 'the', 'potential', 'to', 'deplete', 'resources,', 'harm', 'the', 'environment,', 'and', 'worsen', 'socioeconomic', 'inequities.', 'Depending', 'on', 'how', 'well', 'these', 'problems', 'are', 'solved,', 'urbanization', 'will', 'either', 'have', 'a', 'favorable', 'or', 'negative', 'overall', 'effect.With', 'more', 'than', 'half', 'of', 'the', 'world’s', 'population', 'now', 'living', 'in', 'cities,', 'urbanization', 'has', 'emerged', 'as', 'a', 'major', 'force', 'for', 'development.', 'But', 'it', 'also', 'presents', 'fresh', 'difficulties', 'and', 'chances,', 'reshaping', 'the', 'planet', 'and', 'our', 'way', 'of', 'life', 'in', 'unexpected', 'ways.', 'A', 'future', 'where', 'artificial', 'intelligence', '(AI)', 'is', 'increasingly', 'pervasive', 'and', 'has', 'an', 'impact', 'on', 'many', 'parts', 'of', 'our', 'daily', 'lives', 'has', 'been', 'ushered', 'in', 'by', 'this', 'shift.', 'Urbanization', 'has', 'improved', 'living', 'conditions', 'and', 'economic', 'opportunities,', 'but', 'it', 'also', 'calls', 'for', 'careful', 'management', 'and', 'sustainable', 'practices', 'to', 'guarantee', 'a', 'bright', 'and', 'prosperous', 'future', 'for', 'everybody.Similarly,', 'to', 'this,', 'a', 'nation’s', 'population', 'and', 'demography', 'can', 'contribute', 'significantly', 'to', 'its', 'growth.', 'India’s', 'rapidly', 'rising', 'working-age', 'population', 'will', 'be', 'in', 'its', 'favor,', 'and', 'the', 'nation', 'is', 'expected', 'to', 'host', 'some', 'of', 'the', 'fastest-growing', 'cities', 'in', 'the', 'world', 'in', 'the', 'years', 'to', 'come.', 'The', 'West', 'is', 'also', 'taken', 'aback', 'by', 'the', 'annual', 'GDP', 'growth', 'rate', 'of', 'the', 'cities', 'that', 'are', 'predicted', 'to', 'top', 'the', 'charts.', 'Aside', 'from', 'a', 'few', 'towns', 'in', 'Southeast', 'Asia,', 'all', 'of', 'the', 'cities', 'are', 'now', 'from', 'the', 'Asian', 'bloc,', 'which', 'is', 'primarily', 'controlled', 'by', 'India', 'and', 'China.', 'Bangalore,', 'which', 'has', 'had', 'an', 'enormous', '8.5', 'percent', 'GDP', 'growth,', 'is', 'in', 'first', 'place,', 'followed', 'by', 'Dhaka,', 'Mumbai,', 'and', 'Delhi.', 'Bangalore’s', 'startup', 'culture', 'and', 'enormous', 'skill', 'pool', 'set', 'it', 'apart', 'from', 'other', 'cities.', 'Bangalore', 'itself', 'is', 'probably', 'going', 'to', 'be', 'the', 'future', 'Silicon', 'Valley', 'of', 'Asia', 'and', 'the', 'entire', 'world.', 'It', 'currently', 'creates', 'a', 'tremendous', 'number', 'of', 'startups.', 'It', 'has', 'the', 'potential', 'to', 'rank', 'among', 'the', 'world’s', 'most', 'urbanized', 'cities.', 'These', 'cities', 'will', 'outpace', 'the', 'global', 'average', 'yearly', 'GDP', 'growth', 'rate,', 'which', 'is', 'expected', 'to', 'be', 'about', '2.5%,', 'by', 'a', 'sizeable', 'margin.Undoubtedly,', 'nations', 'will', 'expand', 'and', 'cities', 'will', 'modernize', 'to', 'meet', 'societal', 'demands.', 'Urban', 'city', 'growth', 'has', 'mostly', 'been', 'attributed', 'to', 'rural-to-urban', 'migration.', 'However,', 'the', 'future', 'will', 'be', 'better', 'for', 'us', 'and', 'our', 'offspring', 'if', 'we', 'can', 'maintain', 'a', 'balance', 'between', 'the', 'environment', 'and', 'sustainable', 'growth.', 'We', 'are', 'being', 'impacted', 'by', 'climate', 'change,', 'which', 'is', 'real.', 'In', 'large', 'areas,', 'the', 'effects', 'of', 'climate', 'change', 'will', 'harm', 'the', 'environment', 'through', 'prolonged', 'heat', 'waves,', 'more', 'irregular', 'rainfall,', 'drought,', 'and', 'flooding.As', 'we', 'can', 'see', 'in', 'Pakistan,', 'China,', 'and', 'Europe.', 'Europe', 'as', 'a', 'whole', 'has', 'seen', 'heat', 'waves', 'that', 'have', 'disrupted', 'society,', 'and', 'China', 'is', 'currently', 'dealing', 'with', 'extreme', 'heat', 'waves', 'that', 'are', 'drying', 'up', 'the', 'rivers', 'and', 'making', 'it', 'impossible', 'to', 'produce', 'hydroelectricity.', 'In', 'Pakistan,', 'there', 'were', 'an', 'unusually', 'high', 'number', 'of', 'floods.', 'Out', 'of', '160', 'districts,', '110', 'are', 'underwater,', 'representing', 'a', 'loss', 'of', 'roughly', '$10', 'billion.', 'Rural', 'agrarian', 'and', 'pastoralist', 'types', 'of', 'society,', 'which', 'heavily', 'rely', 'on', 'the', 'environment,', 'are', 'severely', 'impacted', 'by', 'these', 'effects.', 'Climate-driven', 'migration', 'is', 'projected', 'to', 'rise', 'as', 'livelihoods', 'all', 'around', 'the', 'world', 'are', 'affected', 'more', 'and', 'more', 'by', 'climate', 'change.The', 'broader', 'prospects', 'of', 'regional', 'environments', 'are', 'likewise', 'impacted', 'by', 'urbanization.', 'Large', 'increases', 'in', 'the', 'amount', 'of', 'air', 'pollution,', 'precipitation,', 'and', 'the', 'frequency', 'of', 'days', 'with', 'thunderstorms', 'are', 'also', 'observed', 'in', 'areas', 'that', 'are', 'downwind', 'from', 'large', 'industrial', 'complexes.', 'Urban', 'regions', 'produce', 'more', 'precipitation,', 'but', 'they', 'also', 'have', 'less', 'water', 'filtration,', 'which', 'lowers', 'the', 'water', 'tables.', 'Urban', 'areas', 'consume', 'significantly', 'more', 'energy', 'than', 'rural', 'communities', 'do', 'for', 'heating,', 'cooking,', 'transportation,', 'and', 'electricity.', 'For', 'instance,', 'today’s', 'metropolitan', 'populations', 'have', 'more', 'cars', 'than', 'rural', 'ones.Due', 'to', 'technology,', 'both', 'healthcare', 'and', 'education', 'are', 'going', 'through', 'significant', 'changes.', 'By', 'extending', 'access', 'to', 'high-quality', 'education', 'outside', 'the', 'walls', 'of', 'traditional', 'classrooms,', 'online', 'education', 'platforms', 'are', 'democratizing', 'learning.', 'Remote', 'places', 'are', 'now', 'being', 'reached', 'by', 'telemedicine,', 'which', 'allows', 'doctors', 'to', 'diagnose', 'and', 'treat', 'patients', 'at', 'a', 'distance', 'and', 'close', 'healthcare', 'gaps.', 'These', 'advancements', 'are', 'essential', 'in', 'a', 'large,', 'varied', 'nation', 'like', 'India', 'where', 'achieving', 'fair', 'access', 'to', 'healthcare', 'and', 'education', 'has', 'historically', 'proven', 'difficult.The', 'effect', 'of', 'technology', 'on', 'job', 'trends', 'is', 'another', 'factor', 'to', 'take', 'into', 'account.', 'Technology', 'opens', 'up', 'new', 'possibilities,', 'but', 'it', 'also', 'challenges', 'established', 'employment', 'positions,', 'raising', 'concerns', 'about', 'job', 'displacement', 'and', 'the', 'need', 'for', 'skill', 'upgrading.', 'To', 'ensure', 'that', 'no', 'one', 'is', 'left', 'behind', 'in', 'the', 'wake', 'of', 'these', 'changes,', 'it', 'is', 'essential', 'to', 'strike', 'a', 'balance', 'between', 'technological', 'advancement', 'and', 'social', 'welfare.Technology', 'also', 'stimulates', 'economic', 'development', 'and', 'entrepreneurship.', 'A', 'wider', 'audience', 'can', 'now', 'be', 'reached', 'by', 'small', 'enterprises', 'thanks', 'to', 'the', 'growth', 'of', 'digital', 'platforms,', 'promoting', 'economic', 'inclusion.', 'The', 'gig', 'economy', 'is', 'altering', 'established', 'labor', 'patterns', 'and', 'creating', 'new', 'employment', 'opportunities', 'as', 'a', 'result', 'of', 'technology-driven', 'platforms.', 'In', 'tech', 'centers', 'like', 'Bengaluru,', 'Hyderabad,', 'and', 'Pune,', 'startups', 'are', 'thriving', 'and', 'fostering', 'innovation', 'in', 'a', 'variety', 'of', 'industries.However,', 'the', 'rapid', 'advancement', 'of', 'technology', 'also', 'creates', 'problems', 'and', 'worries.', 'Urbanization', 'and', 'technology', 'improvements', 'have', 'given', 'rise', 'to', 'problems', 'like', 'the', 'digital', 'divide', 'and', 'data', 'privacy', 'worries.', 'Technology', 'benefits', 'major', 'cities,', 'while', 'rural', 'populations', 'struggle', 'to', 'get', 'even', 'the', 'most', 'basic', 'digital', 'services,', 'escalating', 'disparities.', 'Additionally,', 'concerns', 'regarding', 'data', 'security', 'and', 'privacy', 'are', 'raised', 'by', 'our', 'growing', 'reliance', 'on', 'technology.', 'Protecting', 'personal', 'information', 'becomes', 'more', 'important', 'as', 'more', 'areas', 'of', 'urban', 'life', 'are', 'digitalized.In', 'conclusion,', 'technology', 'is', 'permanently', 'changing', 'Indian', 'cities,', 'transforming', 'them', 'into', 'vibrant,', 'connected,', 'and', 'effective', 'urban', 'hubs.', 'Due', 'to', 'technology', 'breakthroughs,', 'smart', 'cities,', 'e-governance,', 'education,', 'healthcare,', 'and', 'entrepreneurship', 'are', 'all', 'seeing', 'substantial', 'improvements.', 'These', 'adjustments,', 'though,', 'come', 'with', 'obligations.', 'To', 'close', 'the', 'digital', 'divide,', 'safeguard', 'the', 'privacy', 'of', 'citizen', 'data,', 'and', 'guarantee', 'that', 'the', 'advantages', 'of', 'technology', 'are', 'dispersed', 'fairly,', 'policymakers', 'must', 'collaborate.', 'India’s', 'cities', 'have', 'the', 'ability', 'to', 'lead', 'the', 'way', 'in', 'innovation,', 'progress,', 'and', 'inclusivity', 'in', 'the', 'twenty-first', 'century', 'if', 'they', 'can', 'fully', 'realize', 'their', 'potential', 'and', 'overcome', 'their', 'issues.Blackcoffer', 'Insights', '47:', 'Barenya', 'Sarangi,', 'SIIB,', 'PUNE']\n"
          ]
        }
      ]
    },
    {
      "cell_type": "code",
      "source": [
        "nltk.download('stopwords')\n",
        "from nltk.corpus import stopwords"
      ],
      "metadata": {
        "colab": {
          "base_uri": "https://localhost:8080/"
        },
        "id": "JkE30Ls_D7Vw",
        "outputId": "ff7967f9-522b-4240-c943-25b478e73642"
      },
      "execution_count": null,
      "outputs": [
        {
          "output_type": "stream",
          "name": "stderr",
          "text": [
            "[nltk_data] Downloading package stopwords to /root/nltk_data...\n",
            "[nltk_data]   Package stopwords is already up-to-date!\n"
          ]
        }
      ]
    },
    {
      "cell_type": "code",
      "source": [
        "stop_words = set(stopwords.words('english'))\n",
        "print(stop_words)"
      ],
      "metadata": {
        "colab": {
          "base_uri": "https://localhost:8080/"
        },
        "id": "zfDZ4fHyug0X",
        "outputId": "2088f404-0340-4c24-b53d-c3e272553bdf"
      },
      "execution_count": null,
      "outputs": [
        {
          "output_type": "stream",
          "name": "stdout",
          "text": [
            "{'over', 'aren', 'few', 'yourself', 'against', 'who', 'do', 'our', \"hadn't\", 'had', 'by', \"didn't\", 'no', 'itself', 'ourselves', 'which', 'whom', 'doesn', 'in', 't', 'weren', 'her', 'out', 'of', 's', 'under', 'not', 're', 'very', 'they', 'can', 'myself', 'theirs', 'until', 'hadn', 'having', 'above', \"haven't\", 'while', 'if', 'only', 'off', 'for', \"she's\", \"you're\", 'other', \"you'll\", 'down', 'ain', 'your', 'so', \"isn't\", 'most', 'shan', 'himself', 'doing', 'and', 'hers', 'wasn', 'to', \"mustn't\", 'when', 'through', 'nor', 'an', \"should've\", 'yourselves', 'my', 'further', 'was', \"don't\", \"hasn't\", 'yours', 'have', \"doesn't\", 'its', \"it's\", 'needn', 'that', 'own', \"wasn't\", 'on', 'ours', 'than', 'did', 'couldn', 've', 'it', 'me', 'how', 'haven', 'there', 'their', 'each', 'into', 'be', \"that'll\", 'as', 'now', 'were', 'any', 'should', 'y', 'll', 'after', 'between', 'shouldn', 'isn', 'o', 'does', 'being', 'has', 'with', 'more', \"you'd\", 'him', 'his', 'why', 'won', \"wouldn't\", 'this', 'what', 'them', 'or', 'same', 'here', 'just', 'mustn', 'm', \"won't\", 'all', 'd', 'both', 'herself', 'such', 'the', 'you', \"you've\", 'up', 'themselves', 'is', 'again', 'are', 'some', 'don', 'i', \"needn't\", 'at', 'where', 'once', \"shouldn't\", 'those', \"mightn't\", \"shan't\", 'but', 'wouldn', 'will', \"weren't\", 'am', 'then', 'she', 'hasn', 'a', 'during', 'been', 'before', 'he', 'from', \"couldn't\", 'we', 'because', 'mightn', 'about', \"aren't\", 'didn', 'these', 'ma', 'too', 'below'}\n"
          ]
        },
        {
          "output_type": "stream",
          "name": "stderr",
          "text": [
            "[nltk_data] Downloading package stopwords to /root/nltk_data...\n",
            "[nltk_data]   Package stopwords is already up-to-date!\n"
          ]
        }
      ]
    },
    {
      "cell_type": "code",
      "source": [
        "def remove_stopwords(word_lists):\n",
        "    # Get the list of English stopwords from NLTK\n",
        "\n",
        "    # Remove stopwords from the list of words\n",
        "    filtered_words = [word for word in word_lists if word.lower() not in stop_words]\n",
        "\n",
        "    return filtered_words\n",
        "\n",
        "\n",
        "# Remove stopwords from the list of words\n",
        "filtered_words = remove_stopwords(word_lists)\n",
        "\n",
        "print(\"Filtered words:\", filtered_words)"
      ],
      "metadata": {
        "colab": {
          "base_uri": "https://localhost:8080/"
        },
        "id": "HPLM-I0n9TLx",
        "outputId": "95a366df-fe98-4fb1-ed18-252448d4ac0e"
      },
      "execution_count": null,
      "outputs": [
        {
          "output_type": "stream",
          "name": "stdout",
          "text": [
            "Filtered words: ['Rising', 'Cities', 'Impact', 'Economy,', 'Environment,', 'Infrastructure,', 'City', 'Life', 'Future', '-', 'Blackcoffer', 'Insights', 'Throughout', 'history,', 'industrial', 'revolution', '18th', 'century', 'development', 'Internet,', 'technology', 'primary', 'driver', 'societal', 'change.', 'aided', 'turning', 'cities', 'smart', 'urban', 'centers', 'provide', 'opportunities', 'improvements', 'quality', 'life.', 'continues', 'play', 'crucial', 'role', 'altering', 'world.', 'Cities', 'acting', 'engines', 'economic', 'growth', 'modernization', 'become', 'technologically', 'advanced,', 'considerably', 'accelerating', 'trajectory', 'global', 'development.', 'Technology', 'nothing', 'short', 'revolutionary', 'effects', 'Indian', 'cities,', 'ushering', 'new', 'era', 'change', 'advancement.', 'India’s', 'metropolitan', 'centers', 'embraced', 'technology', 'ways', 'transforming', 'fundamental', 'fabric', 'urban', 'life,', 'infrastructure', 'governance', 'beyond,', 'world', 'rushes', 'digital', 'age.India’s', 'cities', 'must', 'play', 'crucial', 'part', 'nation', 'develop', 'worldwide', 'economic', 'powerhouse.', 'One', 'world’s', 'economies', 'greatest', 'growth', 'rates,', 'India', 'aims', 'reach', 'US$5', 'trillion', 'GDP', '2026', 'US$40', 'trillion', '2047,', 'year', 'celebrate', '100', 'years', 'independence.', 'idea', 'smart', 'cities', 'one', 'technology’s', 'obvious', 'effects.', 'Indian', 'cities', 'progressively', 'implementing', 'cutting-edge', 'technologies', 'build', 'effective,', 'linked', 'urban', 'landscapes.', 'improve', 'quality', 'life', 'people,', 'smart', 'cities', 'use', 'data', 'analytics,', 'Internet', 'Things', '(IoT),', 'automation.', 'Smart', 'traffic', 'management', 'solutions,', 'instance,', 'improve', 'traffic', 'flow', 'lowering', 'congestion', 'air', 'pollution.', 'Sensor-based', 'garbage', 'collection', 'improves', 'waste', 'management,', 'resulting', 'cleaner', 'healthier', 'settings.To', 'become', 'major', 'player', 'world', 'economy,', 'however,', 'several', 'steps', 'followed.', 'crucial', 'one', 'relates', 'India’s', 'ongoing', 'urbanization', 'development.', '1970', '2018,', 'population', 'Indian', 'cities', 'predicted', 'expanded', '109', 'million', '460', 'million,', 'nearly', 'fourfold', 'increase.The', 'nation,', 'already', 'second-largest', 'urban', 'population', 'world,', 'predicted', '50%', 'urban', 'population', 'share', '2050', 'adding', '416', 'million', 'residents', 'cities.4', 'Cities', 'centers', 'economic', 'growth', 'innovation', 'home', 'innovative', 'businesses,', 'better-paying', 'employment,', 'important', 'institutions.', '(Kolkata,', 'Delhi,', 'Mumbai,', 'Chennai)Cities', 'foster', 'increased', 'productivity', 'several', 'routes,', 'generally', 'known', 'agglomeration', 'economies,', 'permitting', 'close', 'contact', 'businesses', 'employees.', 'theory’s', 'main', 'consequence', 'businesses', 'bigger', 'and/or', 'denser', 'cities', 'productive.', 'year', '2035,', 'urbanization', 'significant', 'impact', 'India', 'rest', 'world.', 'India', 'boasts', 'third-largest', 'economy', 'world,', 'behind', 'China', 'United', 'States.', 'new', 'period,', 'China', 'already', 'exceeded', 'USA', 'terms', 'economic', 'size,', 'India', 'surpassed', 'Japan', 'claim', 'higher', 'place.', 'Although', 'India', '675', 'million', 'people', 'living', 'urbanized', 'cities,', 'China', 'stunning', 'one', 'billion', 'people', 'living', 'urbanized', 'cities.Urbanization', 'advantages', 'disadvantages,', 'including', 'financial', 'expenditures.', 'Although', 'city', 'growth', 'result', 'better', 'possibilities', 'higher', 'standard', 'living,', 'also', 'presents', 'difficulties', 'issues.', 'Rapid', 'urbanization', 'potential', 'deplete', 'resources,', 'harm', 'environment,', 'worsen', 'socioeconomic', 'inequities.', 'Depending', 'well', 'problems', 'solved,', 'urbanization', 'either', 'favorable', 'negative', 'overall', 'effect.With', 'half', 'world’s', 'population', 'living', 'cities,', 'urbanization', 'emerged', 'major', 'force', 'development.', 'also', 'presents', 'fresh', 'difficulties', 'chances,', 'reshaping', 'planet', 'way', 'life', 'unexpected', 'ways.', 'future', 'artificial', 'intelligence', '(AI)', 'increasingly', 'pervasive', 'impact', 'many', 'parts', 'daily', 'lives', 'ushered', 'shift.', 'Urbanization', 'improved', 'living', 'conditions', 'economic', 'opportunities,', 'also', 'calls', 'careful', 'management', 'sustainable', 'practices', 'guarantee', 'bright', 'prosperous', 'future', 'everybody.Similarly,', 'this,', 'nation’s', 'population', 'demography', 'contribute', 'significantly', 'growth.', 'India’s', 'rapidly', 'rising', 'working-age', 'population', 'favor,', 'nation', 'expected', 'host', 'fastest-growing', 'cities', 'world', 'years', 'come.', 'West', 'also', 'taken', 'aback', 'annual', 'GDP', 'growth', 'rate', 'cities', 'predicted', 'top', 'charts.', 'Aside', 'towns', 'Southeast', 'Asia,', 'cities', 'Asian', 'bloc,', 'primarily', 'controlled', 'India', 'China.', 'Bangalore,', 'enormous', '8.5', 'percent', 'GDP', 'growth,', 'first', 'place,', 'followed', 'Dhaka,', 'Mumbai,', 'Delhi.', 'Bangalore’s', 'startup', 'culture', 'enormous', 'skill', 'pool', 'set', 'apart', 'cities.', 'Bangalore', 'probably', 'going', 'future', 'Silicon', 'Valley', 'Asia', 'entire', 'world.', 'currently', 'creates', 'tremendous', 'number', 'startups.', 'potential', 'rank', 'among', 'world’s', 'urbanized', 'cities.', 'cities', 'outpace', 'global', 'average', 'yearly', 'GDP', 'growth', 'rate,', 'expected', '2.5%,', 'sizeable', 'margin.Undoubtedly,', 'nations', 'expand', 'cities', 'modernize', 'meet', 'societal', 'demands.', 'Urban', 'city', 'growth', 'mostly', 'attributed', 'rural-to-urban', 'migration.', 'However,', 'future', 'better', 'us', 'offspring', 'maintain', 'balance', 'environment', 'sustainable', 'growth.', 'impacted', 'climate', 'change,', 'real.', 'large', 'areas,', 'effects', 'climate', 'change', 'harm', 'environment', 'prolonged', 'heat', 'waves,', 'irregular', 'rainfall,', 'drought,', 'flooding.As', 'see', 'Pakistan,', 'China,', 'Europe.', 'Europe', 'whole', 'seen', 'heat', 'waves', 'disrupted', 'society,', 'China', 'currently', 'dealing', 'extreme', 'heat', 'waves', 'drying', 'rivers', 'making', 'impossible', 'produce', 'hydroelectricity.', 'Pakistan,', 'unusually', 'high', 'number', 'floods.', '160', 'districts,', '110', 'underwater,', 'representing', 'loss', 'roughly', '$10', 'billion.', 'Rural', 'agrarian', 'pastoralist', 'types', 'society,', 'heavily', 'rely', 'environment,', 'severely', 'impacted', 'effects.', 'Climate-driven', 'migration', 'projected', 'rise', 'livelihoods', 'around', 'world', 'affected', 'climate', 'change.The', 'broader', 'prospects', 'regional', 'environments', 'likewise', 'impacted', 'urbanization.', 'Large', 'increases', 'amount', 'air', 'pollution,', 'precipitation,', 'frequency', 'days', 'thunderstorms', 'also', 'observed', 'areas', 'downwind', 'large', 'industrial', 'complexes.', 'Urban', 'regions', 'produce', 'precipitation,', 'also', 'less', 'water', 'filtration,', 'lowers', 'water', 'tables.', 'Urban', 'areas', 'consume', 'significantly', 'energy', 'rural', 'communities', 'heating,', 'cooking,', 'transportation,', 'electricity.', 'instance,', 'today’s', 'metropolitan', 'populations', 'cars', 'rural', 'ones.Due', 'technology,', 'healthcare', 'education', 'going', 'significant', 'changes.', 'extending', 'access', 'high-quality', 'education', 'outside', 'walls', 'traditional', 'classrooms,', 'online', 'education', 'platforms', 'democratizing', 'learning.', 'Remote', 'places', 'reached', 'telemedicine,', 'allows', 'doctors', 'diagnose', 'treat', 'patients', 'distance', 'close', 'healthcare', 'gaps.', 'advancements', 'essential', 'large,', 'varied', 'nation', 'like', 'India', 'achieving', 'fair', 'access', 'healthcare', 'education', 'historically', 'proven', 'difficult.The', 'effect', 'technology', 'job', 'trends', 'another', 'factor', 'take', 'account.', 'Technology', 'opens', 'new', 'possibilities,', 'also', 'challenges', 'established', 'employment', 'positions,', 'raising', 'concerns', 'job', 'displacement', 'need', 'skill', 'upgrading.', 'ensure', 'one', 'left', 'behind', 'wake', 'changes,', 'essential', 'strike', 'balance', 'technological', 'advancement', 'social', 'welfare.Technology', 'also', 'stimulates', 'economic', 'development', 'entrepreneurship.', 'wider', 'audience', 'reached', 'small', 'enterprises', 'thanks', 'growth', 'digital', 'platforms,', 'promoting', 'economic', 'inclusion.', 'gig', 'economy', 'altering', 'established', 'labor', 'patterns', 'creating', 'new', 'employment', 'opportunities', 'result', 'technology-driven', 'platforms.', 'tech', 'centers', 'like', 'Bengaluru,', 'Hyderabad,', 'Pune,', 'startups', 'thriving', 'fostering', 'innovation', 'variety', 'industries.However,', 'rapid', 'advancement', 'technology', 'also', 'creates', 'problems', 'worries.', 'Urbanization', 'technology', 'improvements', 'given', 'rise', 'problems', 'like', 'digital', 'divide', 'data', 'privacy', 'worries.', 'Technology', 'benefits', 'major', 'cities,', 'rural', 'populations', 'struggle', 'get', 'even', 'basic', 'digital', 'services,', 'escalating', 'disparities.', 'Additionally,', 'concerns', 'regarding', 'data', 'security', 'privacy', 'raised', 'growing', 'reliance', 'technology.', 'Protecting', 'personal', 'information', 'becomes', 'important', 'areas', 'urban', 'life', 'digitalized.In', 'conclusion,', 'technology', 'permanently', 'changing', 'Indian', 'cities,', 'transforming', 'vibrant,', 'connected,', 'effective', 'urban', 'hubs.', 'Due', 'technology', 'breakthroughs,', 'smart', 'cities,', 'e-governance,', 'education,', 'healthcare,', 'entrepreneurship', 'seeing', 'substantial', 'improvements.', 'adjustments,', 'though,', 'come', 'obligations.', 'close', 'digital', 'divide,', 'safeguard', 'privacy', 'citizen', 'data,', 'guarantee', 'advantages', 'technology', 'dispersed', 'fairly,', 'policymakers', 'must', 'collaborate.', 'India’s', 'cities', 'ability', 'lead', 'way', 'innovation,', 'progress,', 'inclusivity', 'twenty-first', 'century', 'fully', 'realize', 'potential', 'overcome', 'issues.Blackcoffer', 'Insights', '47:', 'Barenya', 'Sarangi,', 'SIIB,', 'PUNE']\n"
          ]
        }
      ]
    },
    {
      "cell_type": "code",
      "source": [
        "filtered_words_length = len(filtered_words)\n",
        "filtered_words_length"
      ],
      "metadata": {
        "colab": {
          "base_uri": "https://localhost:8080/"
        },
        "id": "javLyoMz9gfx",
        "outputId": "566016a4-7ba8-4a93-9a8a-873b57d9c3e6"
      },
      "execution_count": null,
      "outputs": [
        {
          "output_type": "execute_result",
          "data": {
            "text/plain": [
              "884"
            ]
          },
          "metadata": {},
          "execution_count": 26
        }
      ]
    },
    {
      "cell_type": "code",
      "source": [
        "import nltk\n",
        "from nltk.corpus import opinion_lexicon\n",
        "\n",
        "# Download the opinion lexicon if you haven't already\n",
        "nltk.download('opinion_lexicon')\n",
        "\n",
        "def identify_sentiment_nltk(word_lists):\n",
        "    # Get the positive and negative words from the opinion lexicon\n",
        "    positive_words = set(opinion_lexicon.positive())\n",
        "    negative_words = set(opinion_lexicon.negative())\n",
        "\n",
        "    positive_list = []\n",
        "    negative_list = []\n",
        "\n",
        "    for word in word_lists:\n",
        "        if word.lower() in positive_words:\n",
        "            positive_list.append(word)\n",
        "        elif word.lower() in negative_words:\n",
        "            negative_list.append(word)\n",
        "\n",
        "    return positive_list, negative_list\n",
        "\n",
        "# Identify positive and negative words in the list using NLTK\n",
        "positive_list, negative_list = identify_sentiment_nltk(word_lists)\n",
        "\n",
        "print(\"Positive words:\", positive_list)\n",
        "print(\"Negative words:\", negative_list)\n"
      ],
      "metadata": {
        "colab": {
          "base_uri": "https://localhost:8080/"
        },
        "id": "XtSZyBad9kxY",
        "outputId": "dbd5fae3-44b3-4d0a-bd18-f65c2433c9f5"
      },
      "execution_count": null,
      "outputs": [
        {
          "output_type": "stream",
          "name": "stdout",
          "text": [
            "Positive words: ['smart', 'improvements', 'revolutionary', 'greatest', 'celebrate', 'smart', 'improve', 'smart', 'Smart', 'improve', 'improves', 'cleaner', 'innovation', 'innovative', 'important', 'significant', 'exceeded', 'stunning', 'advantages', 'better', 'Rapid', 'well', 'favorable', 'fresh', 'intelligence', 'improved', 'sustainable', 'guarantee', 'bright', 'prosperous', 'fastest-growing', 'top', 'skill', 'better', 'sustainable', 'significant', 'high-quality', 'like', 'fair', 'proven', 'skill', 'stimulates', 'like', 'thriving', 'innovation', 'variety', 'rapid', 'improvements', 'like', 'benefits', 'important', 'effective', 'smart', 'guarantee', 'advantages', 'lead']\n",
            "Negative words: ['congestion', 'garbage', 'waste', 'difficulties', 'deplete', 'harm', 'worsen', 'problems', 'negative', 'difficulties', 'unexpected', 'pervasive', 'harm', 'irregular', 'impossible', 'unusually', 'loss', 'concerns', 'strike', 'problems', 'problems', 'struggle', 'concerns']\n"
          ]
        },
        {
          "output_type": "stream",
          "name": "stderr",
          "text": [
            "[nltk_data] Downloading package opinion_lexicon to /root/nltk_data...\n",
            "[nltk_data]   Unzipping corpora/opinion_lexicon.zip.\n"
          ]
        }
      ]
    },
    {
      "cell_type": "markdown",
      "source": [
        "To check if the word is present in the list or not"
      ],
      "metadata": {
        "id": "VyW0fTrQC84c"
      }
    },
    {
      "cell_type": "code",
      "source": [
        "for i in positive_list:\n",
        "  if i in filtered_words:\n",
        "    print(\"YES\")\n",
        "    break"
      ],
      "metadata": {
        "colab": {
          "base_uri": "https://localhost:8080/"
        },
        "id": "EaKjVTRH-HH9",
        "outputId": "8850b3c0-c288-40b2-f2e7-688a66babebb"
      },
      "execution_count": null,
      "outputs": [
        {
          "output_type": "stream",
          "name": "stdout",
          "text": [
            "YES\n"
          ]
        }
      ]
    },
    {
      "cell_type": "code",
      "source": [
        "positive_score = len(positive_list)\n",
        "negative_score = len(negative_list)\n",
        "print(\"Positive Score : \" , positive_score)\n",
        "print(\"Negative Score : \" , negative_score)"
      ],
      "metadata": {
        "id": "m6i-3SIu-vS4",
        "colab": {
          "base_uri": "https://localhost:8080/"
        },
        "outputId": "029ce389-d64f-4b35-ac8b-2018929bc203"
      },
      "execution_count": null,
      "outputs": [
        {
          "output_type": "stream",
          "name": "stdout",
          "text": [
            "Positive Score :  56\n",
            "Negative Score :  23\n"
          ]
        }
      ]
    },
    {
      "cell_type": "markdown",
      "source": [
        "**Polarity Score**"
      ],
      "metadata": {
        "id": "IoP2vyGLCxGA"
      }
    },
    {
      "cell_type": "code",
      "source": [
        "Polarity_Score = (positive_score - negative_score)/ ((positive_score + negative_score) + 0.000001)\n",
        "Polarity_Score"
      ],
      "metadata": {
        "colab": {
          "base_uri": "https://localhost:8080/"
        },
        "id": "YaHFXDiI-0tp",
        "outputId": "507a082d-90bd-47c6-d627-8ed9fcbce9a7"
      },
      "execution_count": null,
      "outputs": [
        {
          "output_type": "execute_result",
          "data": {
            "text/plain": [
              "0.4177215136997277"
            ]
          },
          "metadata": {},
          "execution_count": 78
        }
      ]
    },
    {
      "cell_type": "markdown",
      "source": [
        "**Subjectivity Score**"
      ],
      "metadata": {
        "id": "SJS_x_JqC2Q3"
      }
    },
    {
      "cell_type": "code",
      "source": [
        "Subjectivity_Score = (positive_score + negative_score)/ ((filtered_words_length) + 0.000001)\n",
        "Subjectivity_Score"
      ],
      "metadata": {
        "colab": {
          "base_uri": "https://localhost:8080/"
        },
        "id": "_B_TO1W8-lZT",
        "outputId": "27cf8fa3-323b-49a7-f9a3-26689e47846e"
      },
      "execution_count": null,
      "outputs": [
        {
          "output_type": "execute_result",
          "data": {
            "text/plain": [
              "0.0759615383884985"
            ]
          },
          "metadata": {},
          "execution_count": 79
        }
      ]
    },
    {
      "cell_type": "markdown",
      "source": [
        "**Count Number of Sentences**"
      ],
      "metadata": {
        "id": "d0Xp6F3yDocK"
      }
    },
    {
      "cell_type": "code",
      "source": [
        "def count_sentences(article):\n",
        "    # Split the article into sentences based on punctuation marks\n",
        "    sentences = article.split('.')\n",
        "\n",
        "    # Remove empty strings and strip leading/trailing whitespace from sentences\n",
        "    sentences = [sentence.strip() for sentence in sentences if sentence.strip()]\n",
        "\n",
        "    # Count the number of sentences\n",
        "    num_sentences = len(sentences)\n",
        "\n",
        "    return num_sentences\n",
        "num_sentences = count_sentences(article)\n",
        "print(\"Number of sentences:\", num_sentences)"
      ],
      "metadata": {
        "colab": {
          "base_uri": "https://localhost:8080/"
        },
        "id": "RmLyBz5kDrhR",
        "outputId": "c7d9bdd2-91e9-4ab1-dac8-0980d8b4a1b5"
      },
      "execution_count": null,
      "outputs": [
        {
          "output_type": "stream",
          "name": "stdout",
          "text": [
            "Number of sentences: 82\n"
          ]
        }
      ]
    },
    {
      "cell_type": "markdown",
      "source": [
        "**Average Sentence Length**"
      ],
      "metadata": {
        "id": "hJZCjHl3DS5y"
      }
    },
    {
      "cell_type": "code",
      "source": [
        "Average_Sentence_Length = words_length / num_sentences\n",
        "int(Average_Sentence_Length)"
      ],
      "metadata": {
        "colab": {
          "base_uri": "https://localhost:8080/"
        },
        "id": "g4wJQoHL_e_F",
        "outputId": "44c84eaf-11a1-4381-8c1e-fd1b96a26ce1"
      },
      "execution_count": null,
      "outputs": [
        {
          "output_type": "execute_result",
          "data": {
            "text/plain": [
              "17"
            ]
          },
          "metadata": {},
          "execution_count": 81
        }
      ]
    },
    {
      "cell_type": "markdown",
      "source": [
        "**Counting Complex Words**"
      ],
      "metadata": {
        "id": "ajSUIZmeHKu3"
      }
    },
    {
      "cell_type": "code",
      "source": [
        "import re\n",
        "def count_complex_words(article, threshold=6):\n",
        "    # Split the article into words\n",
        "    words = re.findall(r'\\b\\w+\\b', article)\n",
        "\n",
        "    # Count the number of words with length greater than the threshold\n",
        "    num_complex_words = sum(1 for word in words if len(word) > threshold)\n",
        "\n",
        "    return num_complex_words\n",
        "\n",
        "num_complex_words = count_complex_words(article)\n",
        "print(\"Number of complex words:\", num_complex_words)"
      ],
      "metadata": {
        "colab": {
          "base_uri": "https://localhost:8080/"
        },
        "id": "66NCjOXGGESi",
        "outputId": "f1dbcd55-8a8f-4fb8-81bb-ee0ff6a551fa"
      },
      "execution_count": null,
      "outputs": [
        {
          "output_type": "stream",
          "name": "stdout",
          "text": [
            "Number of complex words: 477\n"
          ]
        }
      ]
    },
    {
      "cell_type": "markdown",
      "source": [
        "**Percentage of Complex Words**"
      ],
      "metadata": {
        "id": "BDxudvrBFLaj"
      }
    },
    {
      "cell_type": "code",
      "source": [
        "Percentage_of_Complex_words = num_complex_words / words_length\n",
        "Percentage_of_Complex_words"
      ],
      "metadata": {
        "colab": {
          "base_uri": "https://localhost:8080/"
        },
        "id": "WPyeN1GuFFjN",
        "outputId": "7382cd7e-6b9e-4fbd-f101-f2d344f17834"
      },
      "execution_count": null,
      "outputs": [
        {
          "output_type": "execute_result",
          "data": {
            "text/plain": [
              "0.3303324099722992"
            ]
          },
          "metadata": {},
          "execution_count": 83
        }
      ]
    },
    {
      "cell_type": "markdown",
      "source": [
        "**Fog Index**"
      ],
      "metadata": {
        "id": "4AdCwGRvHPnf"
      }
    },
    {
      "cell_type": "code",
      "source": [
        "Fog_Index = 0.4 * (Average_Sentence_Length + Percentage_of_Complex_words)\n",
        "Fog_Index"
      ],
      "metadata": {
        "colab": {
          "base_uri": "https://localhost:8080/"
        },
        "id": "oplG0ji_GVer",
        "outputId": "a76f831c-c798-46af-cb8c-bd7834391f1c"
      },
      "execution_count": null,
      "outputs": [
        {
          "output_type": "execute_result",
          "data": {
            "text/plain": [
              "7.17603540301331"
            ]
          },
          "metadata": {},
          "execution_count": 84
        }
      ]
    },
    {
      "cell_type": "markdown",
      "source": [
        "**Average Number of Words Per Sentence**"
      ],
      "metadata": {
        "id": "MeisB2RcHr7w"
      }
    },
    {
      "cell_type": "code",
      "source": [
        "Average_Number_of_Words_Per_Sentence = words_length / num_sentences\n",
        "int(Average_Number_of_Words_Per_Sentence)"
      ],
      "metadata": {
        "colab": {
          "base_uri": "https://localhost:8080/"
        },
        "id": "LU9PreALHeFX",
        "outputId": "2dc794ab-3020-41d5-9cdf-1e1b7b5927e3"
      },
      "execution_count": null,
      "outputs": [
        {
          "output_type": "execute_result",
          "data": {
            "text/plain": [
              "17"
            ]
          },
          "metadata": {},
          "execution_count": 85
        }
      ]
    },
    {
      "cell_type": "markdown",
      "source": [
        "Syllable Per Word"
      ],
      "metadata": {
        "id": "0ZNsc4xIQrhl"
      }
    },
    {
      "cell_type": "code",
      "source": [
        "# Download the CMU Pronouncing Dictionary if you haven't already\n",
        "nltk.download('cmudict')\n",
        "\n",
        "def syllables_per_word(word):\n",
        "    # Initialize the CMU Pronouncing Dictionary\n",
        "    d = nltk.corpus.cmudict.dict()\n",
        "\n",
        "    # Lookup the word in the dictionary and get the list of possible pronunciations\n",
        "    pronunciations = d.get(word.lower(), [])\n",
        "\n",
        "    # Count the number of syllables in each pronunciation\n",
        "    syllable_counts = [len(list(filter(lambda s: s[-1].isdigit(), pronunciation))) for pronunciation in pronunciations]\n",
        "\n",
        "    # Exclude words ending with \"es\" or \"ed\" from counting as an additional syllable\n",
        "    if word.lower().endswith(\"es\") or word.lower().endswith(\"ed\"):\n",
        "        return max(syllable_counts) - 1 if syllable_counts else 0\n",
        "    else:\n",
        "        return max(syllable_counts) if syllable_counts else 0\n",
        "\n",
        "def average_syllables_per_word(word_list):\n",
        "    # Calculate the total number of syllables in all words\n",
        "    total_syllables = sum(syllables_per_word(word) for word in word_list)\n",
        "\n",
        "    # Calculate the average number of syllables per word\n",
        "    if word_list:\n",
        "        return total_syllables / len(word_list)\n",
        "    else:\n",
        "        return 0\n",
        "\n",
        "# Example list of words\n",
        "word_list = [\"apple\", \"baked\", \"orange\", \"jumped\", \"kiwi\", \"pineapple\"]\n",
        "\n",
        "# Calculate the average number of syllables per word\n",
        "average_syllables = average_syllables_per_word(word_list)\n",
        "print(\"Average syllables per word:\", int(average_syllables))\n"
      ],
      "metadata": {
        "colab": {
          "base_uri": "https://localhost:8080/"
        },
        "id": "g_ynXrO9-gJu",
        "outputId": "1866fad5-93cf-465a-b01f-86614a039179"
      },
      "execution_count": null,
      "outputs": [
        {
          "output_type": "stream",
          "name": "stderr",
          "text": [
            "[nltk_data] Downloading package cmudict to /root/nltk_data...\n",
            "[nltk_data]   Package cmudict is already up-to-date!\n"
          ]
        },
        {
          "output_type": "stream",
          "name": "stdout",
          "text": [
            "Average syllables per word: 1\n"
          ]
        }
      ]
    },
    {
      "cell_type": "markdown",
      "source": [
        "**Count Personal Pronoun**"
      ],
      "metadata": {
        "id": "tQhHLArJEodi"
      }
    },
    {
      "cell_type": "code",
      "source": [
        "import re\n",
        "\n",
        "def count_personal_pronouns(word_list):\n",
        "    # Define a regex pattern for personal pronouns\n",
        "    personal_pronoun_pattern = r'\\b(I|you|he|she|it|we|they|me|him|her|us|them|myself|yourself|himself|herself|itself|ourselves|yourselves|themselves)\\b'\n",
        "\n",
        "    # Compile the regex pattern\n",
        "    regex = re.compile(personal_pronoun_pattern, flags=re.IGNORECASE)\n",
        "\n",
        "    # Count the occurrences of personal pronouns\n",
        "    personal_pronoun_count = sum(1 for word in word_list if regex.search(word))\n",
        "\n",
        "    return personal_pronoun_count\n",
        "\n",
        "# Example list of words\n",
        "word_list = [\"I\", \"am\", \"writing\", \"a\", \"message\", \"to\", \"you\", \"about\", \"him\"]\n",
        "\n",
        "# Count personal pronouns\n",
        "personal_pronoun_count = count_personal_pronouns(word_list)\n",
        "print(\"Number of personal pronouns:\", personal_pronoun_count)\n"
      ],
      "metadata": {
        "colab": {
          "base_uri": "https://localhost:8080/"
        },
        "id": "6AbZtpCz3hl9",
        "outputId": "44c5adb0-7f0e-41c9-98b4-d12d8461f5fc"
      },
      "execution_count": null,
      "outputs": [
        {
          "output_type": "stream",
          "name": "stdout",
          "text": [
            "Number of personal pronouns: 3\n"
          ]
        }
      ]
    },
    {
      "cell_type": "code",
      "source": [
        "# Read links from Excel file\n",
        "def read_links_from_excel(file_path):\n",
        "    df = pd.read_excel(file_path)\n",
        "    return df['URL'].tolist()\n",
        "\n",
        "# Main function to process all links\n",
        "def process_links(links):\n",
        "    all_data = []\n",
        "    for link in links:\n",
        "        data = extract_data_from_link(link)\n",
        "        all_data.append(data)\n",
        "    return all_data\n",
        "\n",
        "# Write data to output file\n",
        "def write_data_to_excel(data, output_file):\n",
        "    # Convert data into a DataFrame if necessary\n",
        "    df = pd.DataFrame(data)\n",
        "    # Write DataFrame to Excel file\n",
        "    df.to_excel(output_file, index=False)\n",
        "\n",
        "# Example usage\n",
        "if __name__ == \"__main__\":\n",
        "    # Input and output file paths\n",
        "    input_file = \"Input.xlsx\"\n",
        "    output_file = \"Output_Data.xlsx\"\n",
        "\n",
        "    # Read links from Excel file\n",
        "    links = read_links_from_excel(input_file)\n",
        "\n",
        "    # Process all links and extract data\n",
        "    all_data = process_links(links)\n",
        "\n",
        "    # Write data to output Excel file\n",
        "    write_data_to_excel(all_data, output_file)\n"
      ],
      "metadata": {
        "id": "y9ZYjyGVEs3t"
      },
      "execution_count": null,
      "outputs": []
    },
    {
      "cell_type": "code",
      "source": [],
      "metadata": {
        "id": "8n957vgpFx4R"
      },
      "execution_count": null,
      "outputs": []
    }
  ]
}